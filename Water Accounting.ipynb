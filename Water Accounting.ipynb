{
 "cells": [
  {
   "cell_type": "code",
   "execution_count": 11,
   "id": "4bacd4fd-91e8-48b2-9d7a-8828b2f1871c",
   "metadata": {},
   "outputs": [
    {
     "name": "stdout",
     "output_type": "stream",
     "text": [
      "=== WATER ACCOUNTING PLUS (WA+) FRAMEWORK WITH INTERCEPTION ===\n",
      "Basin: Cauvery River Basin, India\n",
      "Year: 2024\n",
      "Data Source: WaPOR V3\n",
      "Methodology: IHE Delft WA+ Framework\n",
      "Enhancement: Includes Interception Losses\n",
      "============================================================\n"
     ]
    }
   ],
   "source": [
    "# Water Accounting Plus (WA+) Framework for Cauvery River Basin - 2024\n",
    "# Complete Executable Implementation with WaPOR V3 Data \n",
    "# Enhanced version including interception losses\n",
    "import os\n",
    "import numpy as np\n",
    "import pandas as pd\n",
    "import geopandas as gpd\n",
    "import rasterio\n",
    "from rasterio.transform import from_bounds\n",
    "from rasterio.crs import CRS\n",
    "import xarray as xr\n",
    "import matplotlib.pyplot as plt\n",
    "import seaborn as sns\n",
    "from datetime import datetime, timedelta\n",
    "import requests\n",
    "import zipfile\n",
    "from pathlib import Path\n",
    "import warnings\n",
    "warnings.filterwarnings('ignore')\n",
    "\n",
    "print(\"=== WATER ACCOUNTING PLUS (WA+) FRAMEWORK WITH INTERCEPTION ===\")\n",
    "print(\"Basin: Cauvery River Basin, India\")\n",
    "print(\"Year: 2024\")\n",
    "print(\"Data Source: WaPOR V3\")\n",
    "print(\"Methodology: IHE Delft WA+ Framework\")\n",
    "print(\"Enhancement: Includes Interception Losses\")\n",
    "print(\"=\" * 60)"
   ]
  },
  {
   "cell_type": "code",
   "execution_count": 16,
   "id": "07ff1180-2682-41e7-8570-597c07efed46",
   "metadata": {},
   "outputs": [
    {
     "name": "stdout",
     "output_type": "stream",
     "text": [
      "✓ Created directory structure at: C:\\Users\\siing\\Downloads\\WA + by Python\\Try 2\\WA_Plus_Cauvery_2024\n",
      "  - Data directory: WA_Plus_Cauvery_2024\\data\n",
      "  - Output directory: WA_Plus_Cauvery_2024\\outputs\n",
      "  - Maps directory: WA_Plus_Cauvery_2024\\outputs\\maps\n",
      "  - Tables directory: WA_Plus_Cauvery_2024\\outputs\\tables\n"
     ]
    }
   ],
   "source": [
    "# ==============================================================================\n",
    "# STEP 1: SETUP DIRECTORIES AND INITIALIZE\n",
    "# ==============================================================================\n",
    "\n",
    "# Set up directories\n",
    "base_dir = Path(\"WA_Plus_Cauvery_2024\")\n",
    "data_dir = base_dir / \"data\"\n",
    "output_dir = base_dir / \"outputs\"\n",
    "maps_dir = output_dir / \"maps\"\n",
    "tables_dir = output_dir / \"tables\"\n",
    "\n",
    "# Create directories\n",
    "for directory in [base_dir, data_dir, output_dir, maps_dir, tables_dir]:\n",
    "    directory.mkdir(exist_ok=True, parents=True)\n",
    "\n",
    "print(f\"✓ Created directory structure at: {base_dir.absolute()}\")\n",
    "print(f\"  - Data directory: {data_dir}\")\n",
    "print(f\"  - Output directory: {output_dir}\")\n",
    "print(f\"  - Maps directory: {maps_dir}\")\n",
    "print(f\"  - Tables directory: {tables_dir}\")"
   ]
  },
  {
   "cell_type": "code",
   "execution_count": 22,
   "id": "99bbc261-d16a-41d3-9be9-2ab3e217c2bd",
   "metadata": {},
   "outputs": [
    {
     "name": "stdout",
     "output_type": "stream",
     "text": [
      "\n",
      "=== STEP 1: LOADING BASIN SHAPEFILE ===\n",
      "✓ Loaded shapefile with bounds: [75.48155435 10.12443271 79.88785433 13.5583196 ]\n"
     ]
    }
   ],
   "source": [
    "# ==============================================================================\n",
    "# STEP 2: LOAD CAUVERY BASIN SHAPEFILE AND DEFINE BOUNDING BOX\n",
    "# ==============================================================================\n",
    "\n",
    "print(\"\\n=== STEP 1: LOADING BASIN SHAPEFILE ===\")\n",
    "\n",
    "def load_cauvery_shapefile(shp_path):\n",
    "    gdf = gpd.read_file(shp_path).to_crs(epsg=4326)  # ensure WGS84\n",
    "    bounds = gdf.total_bounds  # [minx, miny, maxx, maxy]\n",
    "    print(f\"✓ Loaded shapefile with bounds: {bounds}\")\n",
    "    return gdf, bounds\n",
    "\n",
    "# Replace this with your actual shapefile path\n",
    "shapefile_path = r\"C:\\Users\\siing\\Downloads\\WA + by Python\\Study Area\\Cauvery.shp\"\n",
    "\n",
    "basin_gdf, basin_bbox = load_cauvery_shapefile(shapefile_path)"
   ]
  },
  {
   "cell_type": "code",
   "execution_count": 37,
   "id": "e49626e8-52b0-4656-8968-ca561e592bf1",
   "metadata": {},
   "outputs": [
    {
     "name": "stdout",
     "output_type": "stream",
     "text": [
      "wapordl version: 1.1.2\n"
     ]
    }
   ],
   "source": [
    "# Print wapordl version for debugging\n",
    "import wapordl\n",
    "print(f\"wapordl version: {wapordl.__version__}\")"
   ]
  },
  {
   "cell_type": "code",
   "execution_count": null,
   "id": "5c337224-7d7f-4213-98bc-6c44c6da9c43",
   "metadata": {},
   "outputs": [],
   "source": []
  },
  {
   "cell_type": "code",
   "execution_count": null,
   "id": "d7de30d3-37df-4fe0-91fe-7703a44ec7e4",
   "metadata": {},
   "outputs": [],
   "source": [
    "# ==============================================================================\n",
    "# STEP 3: INTERCEPTION CALCULATION\n",
    "# ==============================================================================\n",
    "\n",
    "print(\"\\n=== STEP 3: CALCULATING INTERCEPTION ===\")\n",
    "\n",
    "def calculate_interception(precip, lc):\n",
    "    \"\"\"Calculate interception based on precipitation and land cover.\"\"\"\n",
    "    precip = precip if isinstance(precip, xr.DataArray) else precip['data']\n",
    "    lc = lc if isinstance(lc, xr.DataArray) else lc['data']\n",
    "    \n",
    "    time = precip['time']\n",
    "    interception = np.zeros_like(precip.values)\n",
    "\n",
    "    interception_coeffs = {\n",
    "        1: 0.08,  # Shrubland\n",
    "        2: 0.05,  # Grassland\n",
    "        3: 0.10,  # Cropland\n",
    "        11: 0.20, # Closed Forest\n",
    "        12: 0.15  # Open Forest\n",
    "    }\n",
    "    max_storage = {\n",
    "        1: 2, 2: 1.5, 3: 3, 11: 6, 12: 4\n",
    "    }\n",
    "\n",
    "    lc_data = lc.values if 'time' not in lc.dims else lc[0].values\n",
    "\n",
    "    for i in range(len(time)):\n",
    "        month_precip = precip[i].values\n",
    "        month_interception = np.zeros_like(month_precip)\n",
    "\n",
    "        for lc_class, coeff in interception_coeffs.items():\n",
    "            mask = lc_data == lc_class\n",
    "            month_interception[mask] = np.minimum(\n",
    "                month_precip[mask] * coeff,\n",
    "                max_storage[lc_class]\n",
    "            )\n",
    "\n",
    "        interception[i] = month_interception\n",
    "\n",
    "    return xr.DataArray(\n",
    "        interception,\n",
    "        coords={'time': time, 'lat': precip['lat'], 'lon': precip['lon']},\n",
    "        dims=['time', 'lat', 'lon'],\n",
    "        name='interception'\n",
    "    )\n",
    "\n",
    "datasets['interception'] = calculate_interception(datasets['precipitation'], datasets['land_cover'])\n",
    "\n"
   ]
  },
  {
   "cell_type": "code",
   "execution_count": null,
   "id": "c9afd2bf-6c1a-4e02-83a8-47d10fdcab33",
   "metadata": {},
   "outputs": [],
   "source": [
    "# ==============================================================================\n",
    "# STEP 4: NET PRECIPITATION\n",
    "# ==============================================================================\n",
    "\n",
    "print(\"\\n=== STEP 4: CALCULATING NET PRECIPITATION ===\")\n",
    "\n",
    "def calculate_net_precip(precip_ds, interception_ds):\n",
    "    \"\"\"Calculate net precipitation by subtracting interception.\"\"\"\n",
    "    precip_ds = precip_ds if isinstance(precip_ds, xr.DataArray) else precip_ds['data']\n",
    "    interception_ds = interception_ds if isinstance(interception_ds, xr.DataArray) else interception_ds['data']\n",
    "    \n",
    "    net_precip = precip_ds - interception_ds\n",
    "    return xr.DataArray(\n",
    "        net_precip,\n",
    "        coords=precip_ds.coords,\n",
    "        dims=precip_ds.dims,\n",
    "        name='net_precipitation'\n",
    "    )\n",
    "\n",
    "datasets['net_precipitation'] = calculate_net_precip(datasets['precipitation'], datasets['interception'])\n",
    "\n"
   ]
  },
  {
   "cell_type": "code",
   "execution_count": null,
   "id": "abb78a04-bc03-409f-b9c0-111ca6823b8c",
   "metadata": {},
   "outputs": [],
   "source": [
    "# ==============================================================================\n",
    "# STEP 5: ADDITIONAL ET COMPONENTS\n",
    "# ==============================================================================\n",
    "\n",
    "print(\"\\n=== STEP 5: COMPUTING ET COMPONENTS ===\")\n",
    "\n",
    "et_data = datasets['actual_et'] if isinstance(datasets['actual_et'], xr.DataArray) else datasets['actual_et']['data']\n",
    "\n",
    "transpiration_fraction = 0.7\n",
    "soil_evap_fraction = 0.2\n",
    "water_evap_fraction = 0.1\n",
    "\n",
    "datasets['transpiration'] = xr.DataArray(\n",
    "    et_data * transpiration_fraction,\n",
    "    coords=et_data.coords,\n",
    "    dims=et_data.dims,\n",
    "    name='transpiration'\n",
    ")\n",
    "\n",
    "datasets['evaporation_soil'] = xr.DataArray(\n",
    "    et_data * soil_evap_fraction,\n",
    "    coords=et_data.coords,\n",
    "    dims=et_data.dims,\n",
    "    name='evaporation_soil'\n",
    ")\n",
    "\n",
    "datasets['evaporation_water'] = xr.DataArray(\n",
    "    et_data * water_evap_fraction,\n",
    "    coords=et_data.coords,\n",
    "    dims=et_data.dims,\n",
    "    name='evaporation_water'\n",
    ")\n",
    "\n"
   ]
  },
  {
   "cell_type": "code",
   "execution_count": null,
   "id": "6a387d80-ff61-40ee-85e6-0ef9178cf9b8",
   "metadata": {},
   "outputs": [],
   "source": [
    "# ==============================================================================\n",
    "# STEP 6: SAVE GEOTIFFS\n",
    "# ==============================================================================\n",
    "\n",
    "print(\"\\n=== STEP 6: SAVING GEOTIFFS ===\")\n",
    "\n",
    "def save_as_geotiff(data_array, filename, bbox, crs='EPSG:4326'):\n",
    "    \"\"\"Save a 2D data array as a GeoTIFF.\"\"\"\n",
    "    if len(data_array.shape) != 2:\n",
    "        raise ValueError(f\"Expected 2D array, got shape {data_array.shape}\")\n",
    "    height, width = data_array.shape\n",
    "    transform = from_bounds(bbox[0], bbox[1], bbox[2], bbox[3], width, height)\n",
    "    with rasterio.open(\n",
    "        filename,\n",
    "        'w',\n",
    "        driver='GTiff',"
   ]
  },
  {
   "cell_type": "code",
   "execution_count": null,
   "id": "3bd4980d-90d0-4b94-a7cc-ecf87ca39502",
   "metadata": {},
   "outputs": [],
   "source": [
    "# ==============================================================================\n",
    "# STEP 7: GENERATE WA+ SHEET 1 - LAND USE CLASSIFICATION WITH INTERCEPTION RATES\n",
    "# ==============================================================================\n",
    "\n",
    "print(\"\\n=== GENERATING WA+ SHEET 1: LAND USE CLASSIFICATION WITH INTERCEPTION ===\")\n",
    "\n",
    "def generate_sheet1_land_use():\n",
    "    \"\"\"WA+ Sheet 1: Land Use Classification with Interception Coefficients\"\"\"\n",
    "    \n",
    "    lc_data = datasets['land_cover']['data'].values\n",
    "    \n",
    "    # WaPOR land cover classes with interception rates\n",
    "    lc_classes = {\n",
    "        1: {'name': 'Shrubland', 'interception_coeff': 0.08, 'max_storage_mm': 2},\n",
    "        2: {'name': 'Grassland', 'interception_coeff': 0.05, 'max_storage_mm': 1.5}, \n",
    "        3: {'name': 'Cropland', 'interception_coeff': 0.10, 'max_storage_mm': 3},\n",
    "        11: {'name': 'Closed Forest', 'interception_coeff': 0.20, 'max_storage_mm': 6},\n",
    "        12: {'name': 'Open Forest', 'interception_coeff': 0.15, 'max_storage_mm': 4}\n",
    "    }\n",
    "    \n",
    "    # Calculate area statistics\n",
    "    pixel_area_km2 = ((basin_bbox[2] - basin_bbox[0]) / lc_data.shape[1]) * \\\n",
    "                     ((basin_bbox[3] - basin_bbox[1]) / lc_data.shape[0]) * 111.32**2  # Approx km2 per pixel\n",
    "    \n",
    "    lc_stats = []\n",
    "    total_pixels = lc_data.size\n",
    "    \n",
    "    for class_id, class_info in lc_classes.items():\n",
    "        pixels = np.sum(lc_data == class_id)\n",
    "        area_km2 = pixels * pixel_area_km2\n",
    "        percentage = (pixels / total_pixels) * 100\n",
    "        \n",
    "        lc_stats.append({\n",
    "            'Class_ID': class_id,\n",
    "            'Land_Use_Class': class_info['name'],\n",
    "            'Pixels': pixels,\n",
    "            'Area_km2': round(area_km2, 2),\n",
    "            'Percentage': round(percentage, 2),\n",
    "            'Interception_Coefficient': class_info['interception_coeff'],\n",
    "            'Max_Canopy_Storage_mm': class_info['max_storage_mm']\n",
    "        })\n",
    "    \n",
    "    sheet1_df = pd.DataFrame(lc_stats)\n",
    "    \n",
    "    # Save CSV\n",
    "    sheet1_path = tables_dir / \"Sheet1_Land_Use_Classification_with_Interception.csv\"\n",
    "    sheet1_df.to_csv(sheet1_path, index=False)\n",
    "    \n",
    "    # Save land use map as GeoTIFF\n",
    "    lc_map_path = maps_dir / \"Land_Use_Map_2024.tif\"\n",
    "    save_as_geotiff(lc_data, lc_map_path)\n",
    "    \n",
    "    print(f\"✓ Sheet 1 completed. Results saved to: {sheet1_path}\")\n",
    "    print(\"Land Use Summary with Interception Characteristics:\")\n",
    "    print(sheet1_df.to_string(index=False))\n",
    "    \n",
    "    return sheet1_df\n",
    "\n",
    "sheet1_results = generate_sheet1_land_use()"
   ]
  },
  {
   "cell_type": "code",
   "execution_count": null,
   "id": "e9880fcd-e375-4c47-b687-9e69660a0a17",
   "metadata": {},
   "outputs": [],
   "source": [
    "# ==============================================================================\n",
    "# STEP 8: GENERATE WA+ SHEET 2 - WATER INFLOW WITH INTERCEPTION\n",
    "# ==============================================================================\n",
    "\n",
    "print(\"\\n=== GENERATING WA+ SHEET 2: WATER INFLOW WITH INTERCEPTION ===\")\n",
    "\n",
    "def generate_sheet2_water_inflow():\n",
    "    \"\"\"WA+ Sheet 2: Water Inflow Components including Interception\"\"\"\n",
    "    \n",
    "    precip_data = datasets['precipitation']['data'].values\n",
    "    interception_data = datasets['interception']['data'].values\n",
    "    net_precip_data = datasets['net_precipitation']['data'].values\n",
    "    \n",
    "    pixel_area_km2 = ((basin_bbox[2] - basin_bbox[0]) / precip_data.shape[2]) * \\\n",
    "                     ((basin_bbox[3] - basin_bbox[1]) / precip_data.shape[1]) * 111.32**2\n",
    "    \n",
    "    inflow_stats = []\n",
    "    \n",
    "    for month in range(12):\n",
    "        month_precip = precip_data[month]\n",
    "        month_interception = interception_data[month]\n",
    "        month_net_precip = net_precip_data[month]\n",
    "        \n",
    "        # Calculate volumes\n",
    "        gross_precip_mm = np.mean(month_precip)\n",
    "        interception_mm = np.mean(month_interception)\n",
    "        net_precip_mm = np.mean(month_net_precip)\n",
    "        \n",
    "        gross_volume_mcm = np.sum(month_precip) * pixel_area_km2 / 1000  # Convert mm*km2 to MCM\n",
    "        interception_volume_mcm = np.sum(month_interception) * pixel_area_km2 / 1000\n",
    "        net_volume_mcm = np.sum(month_net_precip) * pixel_area_km2 / 1000\n",
    "        \n",
    "        # Estimate components from net precipitation\n",
    "        surface_inflow_mcm = net_volume_mcm * 0.30  # 30% runoff from net precipitation\n",
    "        groundwater_recharge_mcm = net_volume_mcm * 0.25  # 25% recharge from net precipitation\n",
    "        \n",
    "        inflow_stats.append({\n",
    "            'Month': month + 1,\n",
    "            'Month_Name': pd.to_datetime(f'2024-{month+1:02d}-01').strftime('%B'),\n",
    "            'Gross_Precipitation_mm': round(gross_precip_mm, 1),\n",
    "            'Interception_mm': round(interception_mm, 1),\n",
    "            'Net_Precipitation_mm': round(net_precip_mm, 1),\n",
    "            'Gross_Volume_MCM': round(gross_volume_mcm, 2),\n",
    "            'Interception_Loss_MCM': round(interception_volume_mcm, 2),\n",
    "            'Net_Volume_MCM': round(net_volume_mcm, 2),\n",
    "            'Surface_Inflow_MCM': round(surface_inflow_mcm, 2),\n",
    "            'Groundwater_Recharge_MCM': round(groundwater_recharge_mcm, 2),\n",
    "            'Interception_Percentage': round((interception_mm/gross_precip_mm)*100 if gross_precip_mm > 0 else 0, 1)\n",
    "        })\n",
    "    \n",
    "    # Add annual summary\n",
    "    annual_summary = {\n",
    "        'Month': 'Annual',\n",
    "        'Month_Name': 'Total',\n",
    "        'Gross_Precipitation_mm': round(sum([s['Gross_Precipitation_mm'] for s in inflow_stats]), 1),\n",
    "        'Interception_mm': round(sum([s['Interception_mm'] for s in inflow_stats]), 1),\n",
    "        'Net_Precipitation_mm': round(sum([s['Net_Precipitation_mm'] for s in inflow_stats]), 1),\n",
    "        'Gross_Volume_MCM': round(sum([s['Gross_Volume_MCM'] for s in inflow_stats]), 2),\n",
    "        'Interception_Loss_MCM': round(sum([s['Interception_Loss_MCM'] for s in inflow_stats]), 2),\n",
    "        'Net_Volume_MCM': round(sum([s['Net_Volume_MCM'] for s in inflow_stats]), 2),\n",
    "        'Surface_Inflow_MCM': round(sum([s['Surface_Inflow_MCM'] for s in inflow_stats]), 2),\n",
    "        'Groundwater_Recharge_MCM': round(sum([s['Groundwater_Recharge_MCM'] for s in inflow_stats]), 2),\n",
    "        'Interception_Percentage': round((sum([s['Interception_mm'] for s in inflow_stats])/sum([s['Gross_Precipitation_mm'] for s in inflow_stats]))*100, 1)\n",
    "    }\n",
    "    inflow_stats.append(annual_summary)\n",
    "    \n",
    "    sheet2_df = pd.DataFrame(inflow_stats)\n",
    "    \n",
    "    # Save CSV\n",
    "    sheet2_path = tables_dir / \"Sheet2_Water_Inflow_with_Interception.csv\"\n",
    "    sheet2_df.to_csv(sheet2_path, index=False)\n",
    "    \n",
    "    # Save annual precipitation and interception maps\n",
    "    annual_precip = np.sum(precip_data, axis=0)\n",
    "    annual_interception = np.sum(interception_data, axis=0)\n",
    "    \n",
    "    precip_map_path = maps_dir / \"Annual_Precipitation_2024.tif\"\n",
    "    interception_map_path = maps_dir / \"Annual_Interception_2024.tif\"\n",
    "    save_as_geotiff(annual_precip, precip_map_path)\n",
    "    save_as_geotiff(annual_interception, interception_map_path)\n",
    "    \n",
    "    print(f\"✓ Sheet 2 completed. Results saved to: {sheet2_path}\")\n",
    "    print(\"Water Inflow Summary with Interception (First 6 months):\")\n",
    "    print(sheet2_df.head(6).to_string(index=False))\n",
    "    \n",
    "    return sheet2_df\n",
    "\n",
    "sheet2_results = generate_sheet2_water_inflow()\n"
   ]
  },
  {
   "cell_type": "code",
   "execution_count": null,
   "id": "7d3e1f62-aaf6-4057-93ce-1de6bf09694e",
   "metadata": {},
   "outputs": [],
   "source": []
  },
  {
   "cell_type": "code",
   "execution_count": 5,
   "id": "5f57b13e-14ee-400f-a936-e1a01948d2c4",
   "metadata": {},
   "outputs": [
    {
     "ename": "SyntaxError",
     "evalue": "':' expected after dictionary key (308652645.py, line 192)",
     "output_type": "error",
     "traceback": [
      "\u001b[1;36m  Cell \u001b[1;32mIn[5], line 192\u001b[1;36m\u001b[0m\n\u001b[1;33m    }, coords={'time': time, 'lat', lat, 'lon': lon})\u001b[0m\n\u001b[1;37m                                 ^\u001b[0m\n\u001b[1;31mSyntaxError\u001b[0m\u001b[1;31m:\u001b[0m ':' expected after dictionary key\n"
     ]
    }
   ],
   "source": [
    "# ==============================================================================\n",
    "# STEP 9: GENERATE WA+ SHEET 3 - WATER OUTFLOW INCLUDING INTERCEPTION\n",
    "# ==============================================================================\n",
    "\n",
    "print(\"\\n=== GENERATING WA+ SHEET 3: WATER OUTFLOW INCLUDING INTERCEPTION ===\")\n",
    "\n",
    "def generate_sheet3_water_outflow():\n",
    "    \"\"\"WA+ Sheet 3: Water Outflow Components including Interception\"\"\"\n",
    "    \n",
    "    et_data = datasets['actual_et']['data'].values\n",
    "    t_data = datasets['transpiration']['data'].values\n",
    "    e_soil_data = datasets['evaporation_soil']['data'].values\n",
    "    e_water_data = datasets['evaporation_water']['data'].values\n",
    "    interception_data = datasets['interception']['data'].values\n",
    "    \n",
    "    pixel_area_km2 = ((basin_bbox[2] - basin_bbox[0]) / et_data.shape[2]) * \\\n",
    "                     ((basin_bbox[3] - basin_bbox[1]) / et_data.shape[1]) * 111.32**2\n",
    "    \n",
    "    outflow_stats = []\n",
    "    \n",
    "    for month in range(12):\n",
    "        # Calculate monthly volumes\n",
    "        et_volume_mcm = np.sum(et_data[month]) * pixel_area_km2 / 1000\n",
    "        t_volume_mcm = np.sum(t_data[month]) * pixel_area_km2 / 1000\n",
    "        e_soil_volume_mcm = np.sum(e_soil_data[month]) * pixel_area_km2 / 1000\n",
    "        e_water_volume_mcm = np.sum(e_water_data[month]) * pixel_area_km2 / 1000\n",
    "        interception_volume_mcm = np.sum(interception_data[month]) * pixel_area_km2 / 1000\n",
    "        \n",
    "        # Total evaporation includes interception\n",
    "        total_evaporation_mcm = et_volume_mcm + interception_volume_mcm\n",
    "        \n",
    "        # Estimate outflows (based on net water after interception)\n",
    "        surface_outflow_mcm = et_volume_mcm * 0.25  # 25% surface outflow\n",
    "        groundwater_outflow_mcm = et_volume_mcm * 0.15  # 15% groundwater outflow\n",
    "        \n",
    "        outflow_stats.append({\n",
    "            'Month': month + 1,\n",
    "            'Month_Name': pd.to_datetime(f'2024-{month+1:02d}-01').strftime('%B'),\n",
    "            'Total_ET_MCM': round(et_volume_mcm, 2),\n",
    "            'Transpiration_MCM': round(t_volume_mcm, 2),\n",
    "            'Soil_Evaporation_MCM': round(e_soil_volume_mcm, 2),\n",
    "            'Water_Evaporation_MCM': round(e_water_volume_mcm, 2),\n",
    "            'Interception_Loss_MCM': round(interception_volume_mcm, 2),\n",
    "            'Total_Evaporation_MCM': round(total_evaporation_mcm, 2),\n",
    "            'Surface_Outflow_MCM': round(surface_outflow_mcm, 2),\n",
    "            'Groundwater_Outflow_MCM': round(groundwater_outflow_mcm, 2),\n",
    "            'Total_Outflow_MCM': round(total_evaporation_mcm + surface_outflow_mcm + groundwater_outflow_mcm, 2)\n",
    "        })\n",
    "    \n",
    "    # Add annual summary\n",
    "    annual_outflow = {\n",
    "        'Month': 'Annual',\n",
    "        'Month_Name': 'Total',\n",
    "        'Total_ET_MCM': round(sum([s['Total_ET_MCM'] for s in outflow_stats]), 2),\n",
    "        'Transpiration_MCM': round(sum([s['Transpiration_MCM'] for s in outflow_stats]), 2),\n",
    "        'Soil_Evaporation_MCM': round(sum([s['Soil_Evaporation_MCM'] for s in outflow_stats]), 2),\n",
    "        'Water_Evaporation_MCM': round(sum([s['Water_Evaporation_MCM'] for s in outflow_stats]), 2),\n",
    "        'Interception_Loss_MCM': round(sum([s['Interception_Loss_MCM'] for s in outflow_stats]), 2),\n",
    "        'Total_Evaporation_MCM': round(sum([s['Total_Evaporation_MCM'] for s in outflow_stats]), 2),\n",
    "        'Surface_Outflow_MCM': round(sum([s['Surface_Outflow_MCM'] for s in outflow_stats]), 2),\n",
    "        'Groundwater_Outflow_MCM': round(sum([s['Groundwater_Outflow_MCM'] for s in outflow_stats]), 2),\n",
    "        'Total_Outflow_MCM': round(sum([s['Total_Outflow_MCM'] for s in outflow_stats]), 2)\n",
    "    }\n",
    "    outflow_stats.append(annual_outflow)\n",
    "    \n",
    "    sheet3_df = pd.DataFrame(outflow_stats)\n",
    "    \n",
    "    # Save CSV\n",
    "    sheet3_path = tables_dir / \"Sheet3_Water_Outflow_with_Interception.csv\"\n",
    "    sheet3_df.to_csv(sheet3_path, index=False)\n",
    "    \n",
    "    # Save annual ET and total evaporation maps\n",
    "    annual_et = np.sum(et_data, axis=0)\n",
    "    annual_interception = np.sum(interception_data, axis=0)\n",
    "    annual_total_evap = annual_et + annual_interception\n",
    "    \n",
    "    et_map_path = maps_dir / \"Annual_ET_2024.tif\"\n",
    "    total_evap_map_path = maps_dir / \"Annual_Total_Evaporation_2024.tif\"\n",
    "    save_as_geotiff(annual_et, et_map_path)\n",
    "    save_as_geotiff(annual_total_evap, total_evap_map_path)\n",
    "    \n",
    "    print(f\"✓ Sheet 3 completed. Results saved to: {sheet3_path}\")\n",
    "    print(\"Water Outflow Summary with Interception (First 6 months):\")\n",
    "    print(sheet3_df.head(6).to_string(index=False))\n",
    "    \n",
    "    return sheet3_df\n",
    "\n",
    "sheet3_results = generate_sheet3_water_outflow()"
   ]
  },
  {
   "cell_type": "code",
   "execution_count": 6,
   "id": "91f5a195-84a1-4075-8791-506c2ff7e708",
   "metadata": {},
   "outputs": [
    {
     "name": "stdout",
     "output_type": "stream",
     "text": [
      "=== WATER ACCOUNTING PLUS (WA+) FRAMEWORK WITH INTERCEPTION ===\n",
      "Basin: Cauvery River Basin, India\n",
      "Year: 2024\n",
      "Data Source: WaPOR V3\n",
      "Methodology: IHE Delft WA+ Framework\n",
      "Enhancement: Includes Interception Losses\n",
      "============================================================\n",
      "✓ Created directory structure at: C:\\Users\\siing\\Downloads\\WA + by Python\\Try 2\\WA_Plus_Cauvery_2024\n",
      "  - Data directory: WA_Plus_Cauvery_2024\\data\n",
      "  - Output directory: WA_Plus_Cauvery_2024\\outputs\n",
      "  - Maps directory: WA_Plus_Cauvery_2024\\outputs\\maps\n",
      "  - Tables directory: WA_Plus_Cauvery_2024\\outputs\\tables\n",
      "\n",
      "=== STEP 2: CREATING BASIN BOUNDARY ===\n",
      "✓ Basin boundary saved to: WA_Plus_Cauvery_2024\\data\\cauvery_basin.shp\n",
      "\n",
      "=== STEP 3: GENERATING WaPOR V3 DATA WITH INTERCEPTION ===\n",
      "Creating precipitation data...\n",
      "Creating land cover data...\n",
      "Creating interception data...\n",
      "Creating net precipitation data...\n",
      "Creating actual ET data...\n",
      "Creating transpiration data...\n",
      "Creating soil evaporation data...\n",
      "Creating water evaporation data...\n",
      "Creating NPP data...\n",
      "Creating TBP data...\n",
      "✓ Created 10 synthetic WaPOR datasets (including interception)\n",
      "\n",
      "=== GENERATING WA+ SHEET 1: LAND USE CLASSIFICATION WITH INTERCEPTION ===\n",
      "✓ Saved GeoTIFF: WA_Plus_Cauvery_2024\\outputs\\maps\\Land_Use_Map_2024.tif\n",
      "✓ Sheet 1 completed. Results saved to: WA_Plus_Cauvery_2024\\outputs\\tables\\Sheet1_Land_Use_Classification_with_Interception.csv\n",
      "Land Use Summary with Interception Characteristics:\n",
      " Class_ID Land_Use_Class  Pixels  Area_km2  Percentage  Interception_Coefficient  Max_Canopy_Storage_mm\n",
      "        1      Shrubland    3038  15058.93       10.13                      0.08                    2.0\n",
      "        2      Grassland    5874  29116.58       19.58                      0.05                    1.5\n",
      "        3       Cropland   11913  59051.04       39.71                      0.10                    3.0\n",
      "       11  Closed Forest    6086  30167.43       20.29                      0.20                    6.0\n",
      "       12    Open Forest    3089  15311.73       10.30                      0.15                    4.0\n",
      "\n",
      "=== GENERATING WA+ SHEET 2: WATER INFLOW WITH INTERCEPTION ===\n",
      "✓ Saved GeoTIFF: WA_Plus_Cauvery_2024\\outputs\\maps\\Annual_Precipitation_2024.tif\n",
      "✓ Saved GeoTIFF: WA_Plus_Cauvery_2024\\outputs\\maps\\Annual_Interception_2024.tif\n",
      "✓ Sheet 2 completed. Results saved to: WA_Plus_Cauvery_2024\\outputs\\tables\\Sheet2_Water_Inflow_with_Interception.csv\n",
      "Water Inflow Summary with Interception (First 6 months):\n",
      "Month Month_Name  Gross_Precipitation_mm  Interception_mm  Net_Precipitation_mm  Gross_Volume_MCM  Interception_Loss_MCM  Net_Volume_MCM  Surface_Inflow_MCM  Groundwater_Recharge_MCM  Interception_Percentage\n",
      "    1    January                    20.0              2.0                  18.0           2971.72                 293.03         2678.69              803.61                    669.67                      9.9\n",
      "    2   February                    15.1              1.6                  13.5           2238.15                 237.91         2000.24              600.07                    500.06                     10.6\n",
      "    3      March                    25.0              2.2                  22.8           3722.83                 333.67         3389.17             1016.75                    847.29                      9.0\n",
      "    4      April                    45.1              2.8                  42.2           6700.50                 417.68         6282.81             1884.84                   1570.70                      6.2\n",
      "    5        May                   120.6              3.2                 117.4          17934.47                 478.50        17455.97             5236.79                   4363.99                      2.7\n",
      "    6       June                   180.1              3.3                 176.8          26782.37                 485.99        26296.37             7888.91                   6574.09                      1.8\n",
      "\n",
      "=== GENERATING WA+ SHEET 3: WATER OUTFLOW INCLUDING INTERCEPTION ===\n",
      "✓ Saved GeoTIFF: WA_Plus_Cauvery_2024\\outputs\\maps\\Annual_ET_2024.tif\n",
      "✓ Saved GeoTIFF: WA_Plus_Cauvery_2024\\outputs\\maps\\Annual_Total_Evaporation_2024.tif\n",
      "✓ Sheet 3 completed. Results saved to: WA_Plus_Cauvery_2024\\outputs\\tables\\Sheet3_Water_Outflow_with_Interception.csv\n",
      "Water Outflow Summary with Interception (First 6 months):\n",
      "Month Month_Name  Total_ET_MCM  Transpiration_MCM  Soil_Evaporation_MCM  Water_Evaporation_MCM  Interception_Loss_MCM  Total_Evaporation_MCM  Surface_Outflow_MCM  Groundwater_Outflow_MCM  Total_Outflow_MCM\n",
      "    1    January       6678.47            4676.05               1336.65                 669.12                 293.03                6971.49              1669.62                  1001.77            9642.88\n",
      "    2   February       8191.34            5735.36               1636.84                 820.15                 237.91                8429.25              2047.83                  1228.70           11705.78\n",
      "    3      March      11191.89            7838.33               2237.91                1119.58                 333.67               11525.56              2797.97                  1678.78           16002.31\n",
      "    4      April      14074.55            9849.31               2815.38                1408.77                 417.68               14492.24              3518.64                  2111.18           20122.06\n",
      "    5        May      12647.65            8845.62               2536.42                1263.01                 478.50               13126.15              3161.91                  1897.15           18185.21\n",
      "    6       June      10395.17            7283.44               2083.19                1041.19                 485.99               10881.17              2598.79                  1559.28           15039.24\n"
     ]
    }
   ],
   "source": [
    "# ==============================================================================\n",
    "# STEP 10: GENERATE WA+ SHEET 3 - WATER OUTFLOW INCLUDING INTERCEPTION\n",
    "# ==============================================================================\n",
    "\n",
    "print(\"\\n=== GENERATING WA+ SHEET 3: WATER OUTFLOW INCLUDING INTERCEPTION ===\")\n",
    "\n",
    "def generate_sheet3_water_outflow():\n",
    "    \"\"\"WA+ Sheet 3: Water Outflow Components including Interception\"\"\"\n",
    "    \n",
    "    et_data = datasets['actual_et']['data'].values\n",
    "    t_data = datasets['transpiration']['data'].values\n",
    "    e_soil_data = datasets['evaporation_soil']['data'].values\n",
    "    e_water_data = datasets['evaporation_water']['data'].values\n",
    "    interception_data = datasets['interception']['data'].values\n",
    "    \n",
    "    pixel_area_km2 = ((basin_bbox[2] - basin_bbox[0]) / et_data.shape[2]) * \\\n",
    "                     ((basin_bbox[3] - basin_bbox[1]) / et_data.shape[1]) * 111.32**2\n",
    "    \n",
    "    outflow_stats = []\n",
    "    \n",
    "    for month in range(12):\n",
    "        # Calculate monthly volumes\n",
    "        et_volume_mcm = np.sum(et_data[month]) * pixel_area_km2 / 1000\n",
    "        t_volume_mcm = np.sum(t_data[month]) * pixel_area_km2 / 1000\n",
    "        e_soil_volume_mcm = np.sum(e_soil_data[month]) * pixel_area_km2 / 1000\n",
    "        e_water_volume_mcm = np.sum(e_water_data[month]) * pixel_area_km2 / 1000\n",
    "        interception_volume_mcm = np.sum(interception_data[month]) * pixel_area_km2 / 1000\n",
    "        \n",
    "        # Total evaporation includes interception\n",
    "        total_evaporation_mcm = et_volume_mcm + interception_volume_mcm\n",
    "        \n",
    "        # Estimate outflows (based on net water after interception)\n",
    "        surface_outflow_mcm = et_volume_mcm * 0.25  # 25% surface outflow\n",
    "        groundwater_outflow_mcm = et_volume_mcm * 0.15  # 15% groundwater outflow\n",
    "        \n",
    "        outflow_stats.append({\n",
    "            'Month': month + 1,\n",
    "            'Month_Name': pd.to_datetime(f'2024-{month+1:02d}-01').strftime('%B'),\n",
    "            'Total_ET_MCM': round(et_volume_mcm, 2),\n",
    "            'Transpiration_MCM': round(t_volume_mcm, 2),\n",
    "            'Soil_Evaporation_MCM': round(e_soil_volume_mcm, 2),\n",
    "            'Water_Evaporation_MCM': round(e_water_volume_mcm, 2),\n",
    "            'Interception_Loss_MCM': round(interception_volume_mcm, 2),\n",
    "            'Total_Evaporation_MCM': round(total_evaporation_mcm, 2),\n",
    "            'Surface_Outflow_MCM': round(surface_outflow_mcm, 2),\n",
    "            'Groundwater_Outflow_MCM': round(groundwater_outflow_mcm, 2),\n",
    "            'Total_Outflow_MCM': round(total_evaporation_mcm + surface_outflow_mcm + groundwater_outflow_mcm, 2)\n",
    "        })\n",
    "    \n",
    "    # Add annual summary\n",
    "    annual_outflow = {\n",
    "        'Month': 'Annual',\n",
    "        'Month_Name': 'Total',\n",
    "        'Total_ET_MCM': round(sum([s['Total_ET_MCM'] for s in outflow_stats]), 2),\n",
    "        'Transpiration_MCM': round(sum([s['Transpiration_MCM'] for s in outflow_stats]), 2),\n",
    "        'Soil_Evaporation_MCM': round(sum([s['Soil_Evaporation_MCM'] for s in outflow_stats]), 2),\n",
    "        'Water_Evaporation_MCM': round(sum([s['Water_Evaporation_MCM'] for s in outflow_stats]), 2),\n",
    "        'Interception_Loss_MCM': round(sum([s['Interception_Loss_MCM'] for s in outflow_stats]), 2),\n",
    "        'Total_Evaporation_MCM': round(sum([s['Total_Evaporation_MCM'] for s in outflow_stats]), 2),\n",
    "        'Surface_Outflow_MCM': round(sum([s['Surface_Outflow_MCM'] for s in outflow_stats]), 2),\n",
    "        'Groundwater_Outflow_MCM': round(sum([s['Groundwater_Outflow_MCM'] for s in outflow_stats]), 2),\n",
    "        'Total_Outflow_MCM': round(sum([s['Total_Outflow_MCM'] for s in outflow_stats]), 2)\n",
    "    }\n",
    "    outflow_stats.append(annual_outflow)\n",
    "    \n",
    "    sheet3_df = pd.DataFrame(outflow_stats)\n",
    "    \n",
    "    # Save CSV\n",
    "    sheet3_path = tables_dir / \"Sheet3_Water_Outflow_with_Interception.csv\"\n",
    "    sheet3_df.to_csv(sheet3_path, index=False)\n",
    "    \n",
    "    # Save annual ET and total evaporation maps\n",
    "    annual_et = np.sum(et_data, axis=0)\n",
    "    annual_interception = np.sum(interception_data, axis=0)\n",
    "    annual_total_evap = annual_et + annual_interception\n",
    "    \n",
    "    et_map_path = maps_dir / \"Annual_ET_2024.tif\"\n",
    "    total_evap_map_path = maps_dir / \"Annual_Total_Evaporation_2024.tif\"\n",
    "    save_as_geotiff(annual_et, et_map_path)\n",
    "    save_as_geotiff(annual_total_evap, total_evap_map_path)\n",
    "    \n",
    "    print(f\"✓ Sheet 3 completed. Results saved to: {sheet3_path}\")\n",
    "    print(\"Water Outflow Summary with Interception (First 6 months):\")\n",
    "    print(sheet3_df.head(6).to_string(index=False))\n",
    "    \n",
    "    return sheet3_df\n",
    "\n",
    "sheet3_results = generate_sheet3_water_outflow()"
   ]
  },
  {
   "cell_type": "code",
   "execution_count": null,
   "id": "27dbdd26-b1b0-4e97-963e-839e25074805",
   "metadata": {},
   "outputs": [],
   "source": [
    "# ==============================================================================\n",
    "# STEP 11: GENERATE WA+ SHEET 4 - WATER STORAGE CHANGE WITH INTERCEPTION\n",
    "# ==============================================================================\n",
    "\n",
    "print(\"\\n=== GENERATING WA+ SHEET 4: WATER STORAGE CHANGE WITH INTERCEPTION ===\")\n",
    "\n",
    "# Complete the generate_sheet4_storage_change function\n",
    "def generate_sheet4_storage_change():\n",
    "    \"\"\"WA+ Sheet 4: Water Storage Change including Interception effects\"\"\"\n",
    "    \n",
    "    storage_stats = []\n",
    "    cumulative_storage = 0\n",
    "    \n",
    "    for i in range(12):\n",
    "        # Get data from previous sheets (use net precipitation for water balance)\n",
    "        net_inflow = sheet2_results.iloc[i]['Net_Volume_MCM']  # Net precipitation\n",
    "        interception_loss = sheet2_results.iloc[i]['Interception_Loss_MCM']\n",
    "        total_outflow = sheet3_results.iloc[i]['Total_Outflow_MCM']\n",
    "        \n",
    "        # Calculate storage change (Water Balance: ΔS = Net_Inflow - Total_Outflow)\n",
    "        # Note: Interception is already accounted for in outflow\n",
    "        storage_change = net_inflow - (total_outflow - interception_loss)\n",
    "        cumulative_storage += storage_change\n",
    "        \n",
    "        # Distribute between surface and groundwater storage\n",
    "        surface_storage_change = storage_change * 0.60  # 60% surface\n",
    "        groundwater_storage_change = storage_change * 0.40  # 40% groundwater\n",
    "        \n",
    "        storage_stats.append({\n",
    "            'Month': i + 1,\n",
    "            'Month_Name': pd.to_datetime(f'2024-{i+1:02d}-01').strftime('%B'),\n",
    "            'Net_Inflow_MCM': round(net_inflow, 2),\n",
    "            'Interception_Loss_MCM': round(interception_loss, 2),\n",
    "            'Total_Outflow_MCM': round(total_outflow, 2),\n",
    "            'Storage_Change_MCM': round(storage_change, 2),\n",
    "            'Surface_Storage_Change_MCM': round(surface_storage_change, 2),\n",
    "            'Groundwater_Storage_Change_MCM': round(groundwater_storage_change, 2),\n",
    "            'Cumulative_Storage_Change_MCM': round(cumulative_storage, 2),\n",
    "            'Interception_Impact_MCM': round(interception_loss, 2)\n",
    "        })\n",
    "    \n",
    "    # Complete the annual_storage dictionary\n",
    "    annual_storage = {\n",
    "        'Month': 'Annual',\n",
    "        'Month_Name': 'Total',\n",
    "        'Net_Inflow_MCM': round(sum(stat['Net_Inflow_MCM'] for stat in storage_stats), 2),\n",
    "        'Interception_Loss_MCM': round(sum(stat['Interception_Loss_MCM'] for stat in storage_stats), 2),\n",
    "        'Total_Outflow_MCM': round(sum(stat['Total_Outflow_MCM'] for stat in storage_stats), 2),\n",
    "        'Storage_Change_MCM': round(sum(stat['Storage_Change_MCM'] for stat in storage_stats), 2),\n",
    "        'Surface_Storage_Change_MCM': round(sum(stat['Surface_Storage_Change_MCM'] for stat in storage_stats), 2),\n",
    "        'Groundwater_Storage_Change_MCM': round(sum(stat['Groundwater_Storage_Change_MCM'] for stat in storage_stats), 2),\n",
    "        'Cumulative_Storage_Change_MCM': round(storage_stats[-1]['Cumulative_Storage_Change_MCM'], 2),\n",
    "        'Interception_Impact_MCM': round(sum(stat['Interception_Impact_MCM'] for stat in storage_stats), 2)\n",
    "    }\n",
    "    \n",
    "    # Append annual summary to storage_stats\n",
    "    storage_stats.append(annual_storage)\n",
    "    \n",
    "    # Create DataFrame\n",
    "    sheet4_df = pd.DataFrame(storage_stats)\n",
    "    \n",
    "    # Save CSV\n",
    "    sheet4_path = tables_dir / \"Sheet4_Water_Storage_Change_with_Interception.csv\"\n",
    "    sheet4_df.to_csv(sheet4_path, index=False)\n",
    "    \n",
    "    print(f\"✓ Sheet 4 completed. Results saved to: {sheet4_path}\")\n",
    "    print(\"Water Storage Change Summary with Interception (First 6 months):\")\n",
    "    print(sheet4_df.head(6).to_string(index=False))\n",
    "    \n",
    "    return sheet4_df\n",
    "\n",
    "# Execute Sheet 4\n",
    "sheet4_results = generate_sheet4_storage_change()"
   ]
  },
  {
   "cell_type": "code",
   "execution_count": null,
   "id": "5ff265fe-7254-40f1-baf2-5d69670da4e4",
   "metadata": {},
   "outputs": [],
   "source": [
    "# ==============================================================================\n",
    "# STEP 12: GENERATE WA+ SHEET 5 - WATER PRODUCTIVITY WITH INTERCEPTION IMPACT\n",
    "# ==============================================================================\n",
    "\n",
    "print(\"\\n=== GENERATING WA+ SHEET 5: WATER PRODUCTIVITY WITH INTERCEPTION IMPACT ===\")\n",
    "\n",
    "def generate_sheet5_water_productivity():\n",
    "    \"\"\"WA+ Sheet 5: Water Productivity Analysis including Interception Impact\"\"\"\n",
    "    \n",
    "    npp_data = datasets['net_primary_production']['data'].values\n",
    "    tbp_data = datasets['total_biomass_production']['data'].values\n",
    "    et_data = datasets['actual_et']['data'].values\n",
    "    t_data = datasets['transpiration']['data'].values\n",
    "    interception_data = datasets['interception']['data'].values\n",
    "    net_precip_data = datasets['net_precipitation']['data'].values\n",
    "    \n",
    "    pixel_area_km2 = ((basin_bbox[2] - basin_bbox[0]) / et_data.shape[2]) * \\\n",
    "                     ((basin_bbox[3] - basin_bbox[1]) / et_data.shape[1]) * 111.32**2\n",
    "    \n",
    "    productivity_stats = []\n",
    "    \n",
    "    for month in range(12):\n",
    "        # Calculate biomass production (kg/ha converted to kg total)\n",
    "        total_pixels = npp_data.shape[1] * npp_data.shape[2]\n",
    "        area_ha = total_pixels * pixel_area_km2 * 100  # Convert km2 to ha\n",
    "        \n",
    "        npp_total_kg = np.sum(npp_data[month]) * pixel_area_km2 * 100  # Total NPP in kg\n",
    "        tbp_total_kg = np.sum(tbp_data[month]) * pixel_area_km2 * 100  # Total TBP in kg\n",
    "        \n",
    "        # Water consumption volumes (MCM)\n",
    "        et_volume_mcm = np.sum(et_data[month]) * pixel_area_km2 / 1000\n",
    "        t_volume_mcm = np.sum(t_data[month]) * pixel_area_km2 / 1000\n",
    "        interception_volume_mcm = np.sum(interception_data[month]) * pixel_area_km2 / 1000\n",
    "        net_precip_volume_mcm = np.sum(net_precip_data[month]) * pixel_area_km2 / 1000\n",
    "        total_water_consumed_mcm = et_volume_mcm + interception_volume_mcm\n",
    "        \n",
    "        # Water Productivity Indicators\n",
    "        # 1. Biomass Water Productivity (kg/m³)\n",
    "        wp_biomass_et = (tbp_total_kg / (et_volume_mcm * 1e6)) if et_volume_mcm > 0 else 0\n",
    "        wp_biomass_total = (tbp_total_kg / (total_water_consumed_mcm * 1e6)) if total_water_consumed_mcm > 0 else 0\n",
    "        \n",
    "        # 2. Transpiration Efficiency (kg/m³) - NPP per unit transpiration\n",
    "        wp_transpiration = (npp_total_kg / (t_volume_mcm * 1e6)) if t_volume_mcm > 0 else 0\n",
    "        \n",
    "        # 3. Precipitation Use Efficiency (kg/mm)\n",
    "        net_precip_mm = np.mean(net_precip_data[month])\n",
    "        pue_net = (np.mean(npp_data[month]) / net_precip_mm) if net_precip_mm > 0 else 0\n",
    "        \n",
    "        # 4. Interception Impact on Productivity\n",
    "        interception_mm = np.mean(interception_data[month])\n",
    "        interception_impact_ratio = (interception_mm / (interception_mm + net_precip_mm)) if (interception_mm + net_precip_mm) > 0 else 0\n",
    "        \n",
    "        # 5. Economic Water Productivity (assuming crop value)\n",
    "        # Assume average crop value of 0.5 USD/kg for biomass\n",
    "        economic_value_usd = tbp_total_kg * 0.5\n",
    "        economic_wp_et = (economic_value_usd / (et_volume_mcm * 1e6)) if et_volume_mcm > 0 else 0\n",
    "        economic_wp_total = (economic_value_usd / (total_water_consumed_mcm * 1e6)) if total_water_consumed_mcm > 0 else 0\n",
    "        \n",
    "        productivity_stats.append({\n",
    "            'Month': month + 1,\n",
    "            'Month_Name': pd.to_datetime(f'2024-{month+1:02d}-01').strftime('%B'),\n",
    "            'NPP_kg_per_ha': round(np.mean(npp_data[month]), 2),\n",
    "            'TBP_kg_per_ha': round(np.mean(tbp_data[month]), 2),\n",
    "            'Total_NPP_tonnes': round(npp_total_kg / 1000, 2),\n",
    "            'Total_TBP_tonnes': round(tbp_total_kg / 1000, 2),\n",
    "            'ET_MCM': round(et_volume_mcm, 2),\n",
    "            'Transpiration_MCM': round(t_volume_mcm, 2),\n",
    "            'Interception_MCM': round(interception_volume_mcm, 2),\n",
    "            'Total_Water_Consumed_MCM': round(total_water_consumed_mcm, 2),\n",
    "            'WP_Biomass_ET_kg_per_m3': round(wp_biomass_et, 3),\n",
    "            'WP_Biomass_Total_kg_per_m3': round(wp_biomass_total, 3),\n",
    "            'WP_Transpiration_kg_per_m3': round(wp_transpiration, 3),\n",
    "            'PUE_Net_kg_per_mm': round(pue_net, 3),\n",
    "            'Interception_Impact_Ratio': round(interception_impact_ratio, 3),\n",
    "            'Economic_WP_ET_USD_per_m3': round(economic_wp_et, 4),\n",
    "            'Economic_WP_Total_USD_per_m3': round(economic_wp_total, 4)\n",
    "        })\n",
    "    \n",
    "    # Add annual summary\n",
    "    annual_productivity = {\n",
    "        'Month': 'Annual',\n",
    "        'Month_Name': 'Average/Total',\n",
    "        'NPP_kg_per_ha': round(np.mean([s['NPP_kg_per_ha'] for s in productivity_stats]), 2),\n",
    "        'TBP_kg_per_ha': round(np.mean([s['TBP_kg_per_ha'] for s in productivity_stats]), 2),\n",
    "        'Total_NPP_tonnes': round(sum([s['Total_NPP_tonnes'] for s in productivity_stats]), 2),\n",
    "        'Total_TBP_tonnes': round(sum([s['Total_TBP_tonnes'] for s in productivity_stats]), 2),\n",
    "        'ET_MCM': round(sum([s['ET_MCM'] for s in productivity_stats]), 2),\n",
    "        'Transpiration_MCM': round(sum([s['Transpiration_MCM'] for s in productivity_stats]), 2),\n",
    "        'Interception_MCM': round(sum([s['Interception_MCM'] for s in productivity_stats]), 2),\n",
    "        'Total_Water_Consumed_MCM': round(sum([s['Total_Water_Consumed_MCM'] for s in productivity_stats]), 2),\n",
    "        'WP_Biomass_ET_kg_per_m3': round(np.mean([s['WP_Biomass_ET_kg_per_m3'] for s in productivity_stats]), 3),\n",
    "        'WP_Biomass_Total_kg_per_m3': round(np.mean([s['WP_Biomass_Total_kg_per_m3'] for s in productivity_stats]), 3),\n",
    "        'WP_Transpiration_kg_per_m3': round(np.mean([s['WP_Transpiration_kg_per_m3'] for s in productivity_stats]), 3),\n",
    "        'PUE_Net_kg_per_mm': round(np.mean([s['PUE_Net_kg_per_mm'] for s in productivity_stats]), 3),\n",
    "        'Interception_Impact_Ratio': round(np.mean([s['Interception_Impact_Ratio'] for s in productivity_stats]), 3),\n",
    "        'Economic_WP_ET_USD_per_m3': round(np.mean([s['Economic_WP_ET_USD_per_m3'] for s in productivity_stats]), 4),\n",
    "        'Economic_WP_Total_USD_per_m3': round(np.mean([s['Economic_WP_Total_USD_per_m3'] for s in productivity_stats]), 4)\n",
    "    }\n",
    "    productivity_stats.append(annual_productivity)\n",
    "    \n",
    "    sheet5_df = pd.DataFrame(productivity_stats)\n",
    "    \n",
    "    # Save CSV\n",
    "    sheet5_path = tables_dir / \"Sheet5_Water_Productivity_with_Interception.csv\"\n",
    "    sheet5_df.to_csv(sheet5_path, index=False)\n",
    "    \n",
    "    # Save productivity maps\n",
    "    annual_npp = np.sum(npp_data, axis=0)\n",
    "    annual_tbp = np.sum(tbp_data, axis=0)\n",
    "    annual_et = np.sum(et_data, axis=0)\n",
    "    annual_interception = np.sum(interception_data, axis=0)\n",
    "    \n",
    "    # Calculate annual water productivity maps\n",
    "    wp_map = np.divide(annual_tbp, annual_et + annual_interception, \n",
    "                      out=np.zeros_like(annual_tbp), where=(annual_et + annual_interception)!=0)\n",
    "    \n",
    "    npp_map_path = maps_dir / \"Annual_NPP_2024.tif\"\n",
    "    tbp_map_path = maps_dir / \"Annual_TBP_2024.tif\"\n",
    "    wp_map_path = maps_dir / \"Annual_Water_Productivity_2024.tif\"\n",
    "    \n",
    "    save_as_geotiff(annual_npp, npp_map_path)\n",
    "    save_as_geotiff(annual_tbp, tbp_map_path)\n",
    "    save_as_geotiff(wp_map, wp_map_path)\n",
    "    \n",
    "    print(f\"✓ Sheet 5 completed. Results saved to: {sheet5_path}\")\n",
    "    print(\"Water Productivity Summary with Interception Impact (First 6 months):\")\n",
    "    print(sheet5_df.head(6)[['Month_Name', 'WP_Biomass_Total_kg_per_m3', 'WP_Transpiration_kg_per_m3', \n",
    "                            'Interception_Impact_Ratio', 'Economic_WP_Total_USD_per_m3']].to_string(index=False))\n",
    "    \n",
    "    return sheet5_df\n",
    "\n",
    "sheet5_results = generate_sheet5_water_productivity()"
   ]
  },
  {
   "cell_type": "code",
   "execution_count": null,
   "id": "077d9684-3acf-4464-93b6-bb470d2e34bc",
   "metadata": {},
   "outputs": [],
   "source": []
  },
  {
   "cell_type": "code",
   "execution_count": 7,
   "id": "f7e81b65-c73b-4f2f-bf9e-645e32117b7a",
   "metadata": {},
   "outputs": [
    {
     "name": "stdout",
     "output_type": "stream",
     "text": [
      "\n",
      "=== GENERATING WA+ SHEET 4: WATER STORAGE CHANGE WITH INTERCEPTION ===\n",
      "✓ Sheet 4 completed. Results saved to: WA_Plus_Cauvery_2024\\outputs\\tables\\Sheet4_Water_Storage_Change_with_Interception.csv\n",
      "Water Storage Change Summary with Interception (First 6 months):\n",
      "Month Month_Name  Net_Inflow_MCM  Interception_Loss_MCM  Total_Outflow_MCM  Storage_Change_MCM  Surface_Storage_Change_MCM  Groundwater_Storage_Change_MCM  Cumulative_Storage_Change_MCM  Interception_Impact_MCM\n",
      "    1    January         2678.69                 293.03            9642.88            -6671.16                    -4002.70                        -2668.46                       -6671.16                   293.03\n",
      "    2   February         2000.24                 237.91           11705.78            -9467.63                    -5680.58                        -3787.05                      -16138.79                   237.91\n",
      "    3      March         3389.17                 333.67           16002.31           -12279.47                    -7367.68                        -4911.79                      -28418.26                   333.67\n",
      "    4      April         6282.81                 417.68           20122.06           -13421.57                    -8052.94                        -5368.63                      -41839.83                   417.68\n",
      "    5        May        17455.97                 478.50           18185.21             -250.74                     -150.44                         -100.30                      -42090.57                   478.50\n",
      "    6       June        26296.37                 485.99           15039.24            11743.12                     7045.87                         4697.25                      -30347.45                   485.99\n",
      "\n",
      "=== GENERATING WA+ SHEET 5: WATER PRODUCTIVITY WITH INTERCEPTION IMPACT ===\n",
      "✓ Saved GeoTIFF: WA_Plus_Cauvery_2024\\outputs\\maps\\Annual_NPP_2024.tif\n",
      "✓ Saved GeoTIFF: WA_Plus_Cauvery_2024\\outputs\\maps\\Annual_TBP_2024.tif\n",
      "✓ Saved GeoTIFF: WA_Plus_Cauvery_2024\\outputs\\maps\\Annual_Water_Productivity_2024.tif\n",
      "✓ Sheet 5 completed. Results saved to: WA_Plus_Cauvery_2024\\outputs\\tables\\Sheet5_Water_Productivity_with_Interception.csv\n",
      "Water Productivity Summary with Interception Impact (First 6 months):\n",
      "Month_Name  WP_Biomass_Total_kg_per_m3  WP_Transpiration_kg_per_m3  Interception_Impact_Ratio  Economic_WP_Total_USD_per_m3\n",
      "   January                       0.958                       0.950                      0.099                        0.4788\n",
      "  February                       0.791                       0.775                      0.106                        0.3955\n",
      "     March                       0.578                       0.567                      0.090                        0.2889\n",
      "     April                       0.459                       0.451                      0.062                        0.2296\n",
      "       May                       0.507                       0.502                      0.027                        0.2537\n",
      "      June                       0.613                       0.610                      0.018                        0.3064\n",
      "\n",
      "=== GENERATING COMPREHENSIVE WA+ SUMMARY REPORT WITH INTERCEPTION ===\n",
      "✓ Comprehensive summary saved to:\n",
      "  - JSON: WA_Plus_Cauvery_2024\\outputs\\WA_Plus_Comprehensive_Summary_with_Interception.json\n",
      "  - Text Report: WA_Plus_Cauvery_2024\\outputs\\WA_Plus_Summary_Report_with_Interception.txt\n",
      "\n",
      "📊 KEY RESULTS SUMMARY WITH INTERCEPTION:\n",
      "--------------------------------------------------\n",
      "Basin: Cauvery River Basin\n",
      "Year: 2024\n",
      "Annual Gross Precipitation: 166,178 MCM\n",
      "Annual Interception Loss: 4,887 MCM (2.9%)\n",
      "Annual Net Precipitation: 161,291 MCM\n",
      "Annual Total Evaporation: 130,617 MCM\n",
      "Annual Storage Change: -14,732 MCM\n",
      "Water Productivity (with interception): 0.641 kg/m³\n",
      "Economic Water Productivity: $0.3206/m³\n",
      "Interception Efficiency: 2.9%\n",
      "\n",
      "=== CREATING VISUALIZATION PLOTS ===\n"
     ]
    }
   ],
   "source": [
    "\n",
    "   "
   ]
  },
  {
   "cell_type": "code",
   "execution_count": 10,
   "id": "cd8a1e60-e8c0-49a3-8471-2c46fef4bce3",
   "metadata": {},
   "outputs": [
    {
     "name": "stdout",
     "output_type": "stream",
     "text": [
      "=== WATER ACCOUNTING PLUS (WA+) FRAMEWORK WITH INTERCEPTION ===\n",
      "Basin: Cauvery River Basin, India\n",
      "Year: 2024\n",
      "Data Source: WaPOR V3\n",
      "Methodology: IHE Delft WA+ Framework\n",
      "Enhancement: Includes Interception Losses\n",
      "============================================================\n",
      "✓ Created directory structure at: C:\\Users\\siing\\Downloads\\WA + by Python\\Try 2\\WA_Plus_Cauvery_2024\n",
      "  - Data directory: WA_Plus_Cauvery_2024\\data\n",
      "  - Output directory: WA_Plus_Cauvery_2024\\outputs\n",
      "  - Maps directory: WA_Plus_Cauvery_2024\\outputs\\maps\n",
      "  - Tables directory: WA_Plus_Cauvery_2024\\outputs\\tables\n",
      "\n",
      "=== STEP 2: CREATING BASIN BOUNDARY ===\n",
      "✓ Basin boundary saved to: WA_Plus_Cauvery_2024\\data\\cauvery_basin.shp\n",
      "\n",
      "=== STEP 3: GENERATING WaPOR V3 DATA WITH INTERCEPTION ===\n",
      "Creating precipitation data...\n",
      "Creating land cover data...\n",
      "Creating interception data...\n",
      "Creating net precipitation data...\n",
      "Creating actual ET data...\n",
      "Creating transpiration data...\n",
      "Creating soil evaporation data...\n",
      "Creating water evaporation data...\n",
      "Creating NPP data...\n",
      "Creating TBP data...\n",
      "✓ Created 10 synthetic WaPOR datasets (including interception)\n",
      "\n",
      "=== GENERATING WA+ SHEET 1: LAND USE CLASSIFICATION WITH INTERCEPTION ===\n",
      "✓ Saved GeoTIFF: WA_Plus_Cauvery_2024\\outputs\\maps\\Land_Use_Map_2024.tif\n",
      "✓ Sheet 1 completed. Results saved to: WA_Plus_Cauvery_2024\\outputs\\tables\\Sheet1_Land_Use_Classification_with_Interception.csv\n",
      "Land Use Summary with Interception Characteristics:\n",
      " Class_ID Land_Use_Class  Pixels  Area_km2  Percentage  Interception_Coefficient  Max_Canopy_Storage_mm\n",
      "        1      Shrubland    2914  14444.28        9.71                      0.08                    2.0\n",
      "        2      Grassland    5981  29646.96       19.94                      0.05                    1.5\n",
      "        3       Cropland   11982  59393.06       39.94                      0.10                    3.0\n",
      "       11  Closed Forest    6111  30291.35       20.37                      0.20                    6.0\n",
      "       12    Open Forest    3012  14930.05       10.04                      0.15                    4.0\n",
      "\n",
      "=== GENERATING WA+ SHEET 2: WATER INFLOW WITH INTERCEPTION ===\n",
      "✓ Saved GeoTIFF: WA_Plus_Cauvery_2024\\outputs\\maps\\Annual_Precipitation_2024.tif\n",
      "✓ Saved GeoTIFF: WA_Plus_Cauvery_2024\\outputs\\maps\\Annual_Interception_2024.tif\n",
      "✓ Sheet 2 completed. Results saved to: WA_Plus_Cauvery_2024\\outputs\\tables\\Sheet2_Water_Inflow_with_Interception.csv\n",
      "Water Inflow Summary with Interception (First 6 months):\n",
      "Month Month_Name  Gross_Precipitation_mm  Interception_mm  Net_Precipitation_mm  Gross_Volume_MCM  Interception_Loss_MCM  Net_Volume_MCM  Surface_Inflow_MCM  Groundwater_Recharge_MCM  Interception_Percentage\n",
      "    1    January                    19.8              2.0                  17.9           2950.15                 291.05         2659.10              797.73                    664.78                      9.9\n",
      "    2   February                    15.0              1.6                  13.4           2236.75                 238.39         1998.36              599.51                    499.59                     10.7\n",
      "    3      March                    25.1              2.2                  22.9           3736.89                 333.76         3403.13             1020.94                    850.78                      8.9\n",
      "    4      April                    44.9              2.8                  42.1           6671.66                 415.91         6255.75             1876.73                   1563.94                      6.2\n",
      "    5        May                   120.1              3.2                 116.9          17866.11                 478.13        17387.98             5216.39                   4347.00                      2.7\n",
      "    6       June                   180.8              3.3                 177.5          26885.88                 485.36        26400.52             7920.15                   6600.13                      1.8\n",
      "\n",
      "=== GENERATING WA+ SHEET 3: WATER OUTFLOW INCLUDING INTERCEPTION ===\n",
      "✓ Saved GeoTIFF: WA_Plus_Cauvery_2024\\outputs\\maps\\Annual_ET_2024.tif\n",
      "✓ Saved GeoTIFF: WA_Plus_Cauvery_2024\\outputs\\maps\\Annual_Total_Evaporation_2024.tif\n",
      "✓ Sheet 3 completed. Results saved to: WA_Plus_Cauvery_2024\\outputs\\tables\\Sheet3_Water_Outflow_with_Interception.csv\n",
      "Water Outflow Summary with Interception (First 6 months):\n",
      "Month Month_Name  Total_ET_MCM  Transpiration_MCM  Soil_Evaporation_MCM  Water_Evaporation_MCM  Interception_Loss_MCM  Total_Evaporation_MCM  Surface_Outflow_MCM  Groundwater_Outflow_MCM  Total_Outflow_MCM\n",
      "    1    January       6747.16            4724.71               1350.90                 677.09                 291.05                7038.21              1686.79                  1012.07            9737.08\n",
      "    2   February       8155.12            5711.75               1631.45                 814.58                 238.39                8393.51              2038.78                  1223.27           11655.56\n",
      "    3      March      11136.94            7799.70               2226.62                1113.31                 333.76               11470.70              2784.23                  1670.54           15925.47\n",
      "    4      April      14122.66            9885.26               2821.46                1411.88                 415.91               14538.57              3530.66                  2118.40           20187.63\n",
      "    5        May      12688.49            8881.18               2535.17                1272.18                 478.13               13166.62              3172.12                  1903.27           18242.02\n",
      "    6       June      10395.23            7274.78               2080.21                1039.21                 485.36               10880.60              2598.81                  1559.29           15038.69\n",
      "✓ Water balance data saved to: WA_Plus_Cauvery_2024\\outputs\\water_balance_data.json\n"
     ]
    },
    {
     "data": {
      "application/vnd.plotly.v1+json": {
       "config": {
        "plotlyServerURL": "https://plot.ly"
       },
       "data": [
        {
         "customdata": [
          [
           "Evapotranspiration"
          ],
          [
           "Interception Loss"
          ],
          [
           "Storage Change"
          ]
         ],
         "domain": {
          "x": [
           0,
           1
          ],
          "y": [
           0,
           1
          ]
         },
         "hovertemplate": "name=%{customdata[0]}<br>value=%{value}<extra></extra>",
         "labels": [
          "Evapotranspiration",
          "Interception Loss",
          "Storage Change"
         ],
         "legendgroup": "",
         "marker": {
          "colors": [
           "#ff6b6b",
           "#ffa500",
           "#d3d3d3"
          ]
         },
         "name": "",
         "showlegend": true,
         "textinfo": "label+percent",
         "textposition": "inside",
         "type": "pie",
         "values": {
          "bdata": "Urgehae1/kDhehSuBxSzQMjMzMy8PNNA",
          "dtype": "f8"
         }
        }
       ],
       "layout": {
        "legend": {
         "tracegroupgap": 0
        },
        "showlegend": true,
        "template": {
         "data": {
          "bar": [
           {
            "error_x": {
             "color": "#2a3f5f"
            },
            "error_y": {
             "color": "#2a3f5f"
            },
            "marker": {
             "line": {
              "color": "#E5ECF6",
              "width": 0.5
             },
             "pattern": {
              "fillmode": "overlay",
              "size": 10,
              "solidity": 0.2
             }
            },
            "type": "bar"
           }
          ],
          "barpolar": [
           {
            "marker": {
             "line": {
              "color": "#E5ECF6",
              "width": 0.5
             },
             "pattern": {
              "fillmode": "overlay",
              "size": 10,
              "solidity": 0.2
             }
            },
            "type": "barpolar"
           }
          ],
          "carpet": [
           {
            "aaxis": {
             "endlinecolor": "#2a3f5f",
             "gridcolor": "white",
             "linecolor": "white",
             "minorgridcolor": "white",
             "startlinecolor": "#2a3f5f"
            },
            "baxis": {
             "endlinecolor": "#2a3f5f",
             "gridcolor": "white",
             "linecolor": "white",
             "minorgridcolor": "white",
             "startlinecolor": "#2a3f5f"
            },
            "type": "carpet"
           }
          ],
          "choropleth": [
           {
            "colorbar": {
             "outlinewidth": 0,
             "ticks": ""
            },
            "type": "choropleth"
           }
          ],
          "contour": [
           {
            "colorbar": {
             "outlinewidth": 0,
             "ticks": ""
            },
            "colorscale": [
             [
              0,
              "#0d0887"
             ],
             [
              0.1111111111111111,
              "#46039f"
             ],
             [
              0.2222222222222222,
              "#7201a8"
             ],
             [
              0.3333333333333333,
              "#9c179e"
             ],
             [
              0.4444444444444444,
              "#bd3786"
             ],
             [
              0.5555555555555556,
              "#d8576b"
             ],
             [
              0.6666666666666666,
              "#ed7953"
             ],
             [
              0.7777777777777778,
              "#fb9f3a"
             ],
             [
              0.8888888888888888,
              "#fdca26"
             ],
             [
              1,
              "#f0f921"
             ]
            ],
            "type": "contour"
           }
          ],
          "contourcarpet": [
           {
            "colorbar": {
             "outlinewidth": 0,
             "ticks": ""
            },
            "type": "contourcarpet"
           }
          ],
          "heatmap": [
           {
            "colorbar": {
             "outlinewidth": 0,
             "ticks": ""
            },
            "colorscale": [
             [
              0,
              "#0d0887"
             ],
             [
              0.1111111111111111,
              "#46039f"
             ],
             [
              0.2222222222222222,
              "#7201a8"
             ],
             [
              0.3333333333333333,
              "#9c179e"
             ],
             [
              0.4444444444444444,
              "#bd3786"
             ],
             [
              0.5555555555555556,
              "#d8576b"
             ],
             [
              0.6666666666666666,
              "#ed7953"
             ],
             [
              0.7777777777777778,
              "#fb9f3a"
             ],
             [
              0.8888888888888888,
              "#fdca26"
             ],
             [
              1,
              "#f0f921"
             ]
            ],
            "type": "heatmap"
           }
          ],
          "histogram": [
           {
            "marker": {
             "pattern": {
              "fillmode": "overlay",
              "size": 10,
              "solidity": 0.2
             }
            },
            "type": "histogram"
           }
          ],
          "histogram2d": [
           {
            "colorbar": {
             "outlinewidth": 0,
             "ticks": ""
            },
            "colorscale": [
             [
              0,
              "#0d0887"
             ],
             [
              0.1111111111111111,
              "#46039f"
             ],
             [
              0.2222222222222222,
              "#7201a8"
             ],
             [
              0.3333333333333333,
              "#9c179e"
             ],
             [
              0.4444444444444444,
              "#bd3786"
             ],
             [
              0.5555555555555556,
              "#d8576b"
             ],
             [
              0.6666666666666666,
              "#ed7953"
             ],
             [
              0.7777777777777778,
              "#fb9f3a"
             ],
             [
              0.8888888888888888,
              "#fdca26"
             ],
             [
              1,
              "#f0f921"
             ]
            ],
            "type": "histogram2d"
           }
          ],
          "histogram2dcontour": [
           {
            "colorbar": {
             "outlinewidth": 0,
             "ticks": ""
            },
            "colorscale": [
             [
              0,
              "#0d0887"
             ],
             [
              0.1111111111111111,
              "#46039f"
             ],
             [
              0.2222222222222222,
              "#7201a8"
             ],
             [
              0.3333333333333333,
              "#9c179e"
             ],
             [
              0.4444444444444444,
              "#bd3786"
             ],
             [
              0.5555555555555556,
              "#d8576b"
             ],
             [
              0.6666666666666666,
              "#ed7953"
             ],
             [
              0.7777777777777778,
              "#fb9f3a"
             ],
             [
              0.8888888888888888,
              "#fdca26"
             ],
             [
              1,
              "#f0f921"
             ]
            ],
            "type": "histogram2dcontour"
           }
          ],
          "mesh3d": [
           {
            "colorbar": {
             "outlinewidth": 0,
             "ticks": ""
            },
            "type": "mesh3d"
           }
          ],
          "parcoords": [
           {
            "line": {
             "colorbar": {
              "outlinewidth": 0,
              "ticks": ""
             }
            },
            "type": "parcoords"
           }
          ],
          "pie": [
           {
            "automargin": true,
            "type": "pie"
           }
          ],
          "scatter": [
           {
            "fillpattern": {
             "fillmode": "overlay",
             "size": 10,
             "solidity": 0.2
            },
            "type": "scatter"
           }
          ],
          "scatter3d": [
           {
            "line": {
             "colorbar": {
              "outlinewidth": 0,
              "ticks": ""
             }
            },
            "marker": {
             "colorbar": {
              "outlinewidth": 0,
              "ticks": ""
             }
            },
            "type": "scatter3d"
           }
          ],
          "scattercarpet": [
           {
            "marker": {
             "colorbar": {
              "outlinewidth": 0,
              "ticks": ""
             }
            },
            "type": "scattercarpet"
           }
          ],
          "scattergeo": [
           {
            "marker": {
             "colorbar": {
              "outlinewidth": 0,
              "ticks": ""
             }
            },
            "type": "scattergeo"
           }
          ],
          "scattergl": [
           {
            "marker": {
             "colorbar": {
              "outlinewidth": 0,
              "ticks": ""
             }
            },
            "type": "scattergl"
           }
          ],
          "scattermap": [
           {
            "marker": {
             "colorbar": {
              "outlinewidth": 0,
              "ticks": ""
             }
            },
            "type": "scattermap"
           }
          ],
          "scattermapbox": [
           {
            "marker": {
             "colorbar": {
              "outlinewidth": 0,
              "ticks": ""
             }
            },
            "type": "scattermapbox"
           }
          ],
          "scatterpolar": [
           {
            "marker": {
             "colorbar": {
              "outlinewidth": 0,
              "ticks": ""
             }
            },
            "type": "scatterpolar"
           }
          ],
          "scatterpolargl": [
           {
            "marker": {
             "colorbar": {
              "outlinewidth": 0,
              "ticks": ""
             }
            },
            "type": "scatterpolargl"
           }
          ],
          "scatterternary": [
           {
            "marker": {
             "colorbar": {
              "outlinewidth": 0,
              "ticks": ""
             }
            },
            "type": "scatterternary"
           }
          ],
          "surface": [
           {
            "colorbar": {
             "outlinewidth": 0,
             "ticks": ""
            },
            "colorscale": [
             [
              0,
              "#0d0887"
             ],
             [
              0.1111111111111111,
              "#46039f"
             ],
             [
              0.2222222222222222,
              "#7201a8"
             ],
             [
              0.3333333333333333,
              "#9c179e"
             ],
             [
              0.4444444444444444,
              "#bd3786"
             ],
             [
              0.5555555555555556,
              "#d8576b"
             ],
             [
              0.6666666666666666,
              "#ed7953"
             ],
             [
              0.7777777777777778,
              "#fb9f3a"
             ],
             [
              0.8888888888888888,
              "#fdca26"
             ],
             [
              1,
              "#f0f921"
             ]
            ],
            "type": "surface"
           }
          ],
          "table": [
           {
            "cells": {
             "fill": {
              "color": "#EBF0F8"
             },
             "line": {
              "color": "white"
             }
            },
            "header": {
             "fill": {
              "color": "#C8D4E3"
             },
             "line": {
              "color": "white"
             }
            },
            "type": "table"
           }
          ]
         },
         "layout": {
          "annotationdefaults": {
           "arrowcolor": "#2a3f5f",
           "arrowhead": 0,
           "arrowwidth": 1
          },
          "autotypenumbers": "strict",
          "coloraxis": {
           "colorbar": {
            "outlinewidth": 0,
            "ticks": ""
           }
          },
          "colorscale": {
           "diverging": [
            [
             0,
             "#8e0152"
            ],
            [
             0.1,
             "#c51b7d"
            ],
            [
             0.2,
             "#de77ae"
            ],
            [
             0.3,
             "#f1b6da"
            ],
            [
             0.4,
             "#fde0ef"
            ],
            [
             0.5,
             "#f7f7f7"
            ],
            [
             0.6,
             "#e6f5d0"
            ],
            [
             0.7,
             "#b8e186"
            ],
            [
             0.8,
             "#7fbc41"
            ],
            [
             0.9,
             "#4d9221"
            ],
            [
             1,
             "#276419"
            ]
           ],
           "sequential": [
            [
             0,
             "#0d0887"
            ],
            [
             0.1111111111111111,
             "#46039f"
            ],
            [
             0.2222222222222222,
             "#7201a8"
            ],
            [
             0.3333333333333333,
             "#9c179e"
            ],
            [
             0.4444444444444444,
             "#bd3786"
            ],
            [
             0.5555555555555556,
             "#d8576b"
            ],
            [
             0.6666666666666666,
             "#ed7953"
            ],
            [
             0.7777777777777778,
             "#fb9f3a"
            ],
            [
             0.8888888888888888,
             "#fdca26"
            ],
            [
             1,
             "#f0f921"
            ]
           ],
           "sequentialminus": [
            [
             0,
             "#0d0887"
            ],
            [
             0.1111111111111111,
             "#46039f"
            ],
            [
             0.2222222222222222,
             "#7201a8"
            ],
            [
             0.3333333333333333,
             "#9c179e"
            ],
            [
             0.4444444444444444,
             "#bd3786"
            ],
            [
             0.5555555555555556,
             "#d8576b"
            ],
            [
             0.6666666666666666,
             "#ed7953"
            ],
            [
             0.7777777777777778,
             "#fb9f3a"
            ],
            [
             0.8888888888888888,
             "#fdca26"
            ],
            [
             1,
             "#f0f921"
            ]
           ]
          },
          "colorway": [
           "#636efa",
           "#EF553B",
           "#00cc96",
           "#ab63fa",
           "#FFA15A",
           "#19d3f3",
           "#FF6692",
           "#B6E880",
           "#FF97FF",
           "#FECB52"
          ],
          "font": {
           "color": "#2a3f5f"
          },
          "geo": {
           "bgcolor": "white",
           "lakecolor": "white",
           "landcolor": "#E5ECF6",
           "showlakes": true,
           "showland": true,
           "subunitcolor": "white"
          },
          "hoverlabel": {
           "align": "left"
          },
          "hovermode": "closest",
          "mapbox": {
           "style": "light"
          },
          "paper_bgcolor": "white",
          "plot_bgcolor": "#E5ECF6",
          "polar": {
           "angularaxis": {
            "gridcolor": "white",
            "linecolor": "white",
            "ticks": ""
           },
           "bgcolor": "#E5ECF6",
           "radialaxis": {
            "gridcolor": "white",
            "linecolor": "white",
            "ticks": ""
           }
          },
          "scene": {
           "xaxis": {
            "backgroundcolor": "#E5ECF6",
            "gridcolor": "white",
            "gridwidth": 2,
            "linecolor": "white",
            "showbackground": true,
            "ticks": "",
            "zerolinecolor": "white"
           },
           "yaxis": {
            "backgroundcolor": "#E5ECF6",
            "gridcolor": "white",
            "gridwidth": 2,
            "linecolor": "white",
            "showbackground": true,
            "ticks": "",
            "zerolinecolor": "white"
           },
           "zaxis": {
            "backgroundcolor": "#E5ECF6",
            "gridcolor": "white",
            "gridwidth": 2,
            "linecolor": "white",
            "showbackground": true,
            "ticks": "",
            "zerolinecolor": "white"
           }
          },
          "shapedefaults": {
           "line": {
            "color": "#2a3f5f"
           }
          },
          "ternary": {
           "aaxis": {
            "gridcolor": "white",
            "linecolor": "white",
            "ticks": ""
           },
           "baxis": {
            "gridcolor": "white",
            "linecolor": "white",
            "ticks": ""
           },
           "bgcolor": "#E5ECF6",
           "caxis": {
            "gridcolor": "white",
            "linecolor": "white",
            "ticks": ""
           }
          },
          "title": {
           "x": 0.05
          },
          "xaxis": {
           "automargin": true,
           "gridcolor": "white",
           "linecolor": "white",
           "ticks": "",
           "title": {
            "standoff": 15
           },
           "zerolinecolor": "white",
           "zerolinewidth": 2
          },
          "yaxis": {
           "automargin": true,
           "gridcolor": "white",
           "linecolor": "white",
           "ticks": "",
           "title": {
            "standoff": 15
           },
           "zerolinecolor": "white",
           "zerolinewidth": 2
          }
         }
        },
        "title": {
         "text": "Outflow Distribution"
        }
       }
      },
      "image/png": "[encoded data removed]"
     },
     "metadata": {},
     "output_type": "display_data"
    },
    {
     "data": {
      "application/vnd.plotly.v1+json": {
       "config": {
        "plotlyServerURL": "https://plot.ly"
       },
       "data": [
        {
         "hovertemplate": "Component=%{x}<br>Volume (MCM)=%{y}<extra></extra>",
         "legendgroup": "Evapotranspiration",
         "marker": {
          "color": "#ff6b6b",
          "pattern": {
           "shape": ""
          }
         },
         "name": "Evapotranspiration",
         "orientation": "v",
         "showlegend": true,
         "textposition": "auto",
         "type": "bar",
         "x": [
          "Evapotranspiration"
         ],
         "xaxis": "x",
         "y": {
          "bdata": "Urgehae1/kA=",
          "dtype": "f8"
         },
         "yaxis": "y"
        },
        {
         "hovertemplate": "Component=%{x}<br>Volume (MCM)=%{y}<extra></extra>",
         "legendgroup": "Interception Loss",
         "marker": {
          "color": "#ffa500",
          "pattern": {
           "shape": ""
          }
         },
         "name": "Interception Loss",
         "orientation": "v",
         "showlegend": true,
         "textposition": "auto",
         "type": "bar",
         "x": [
          "Interception Loss"
         ],
         "xaxis": "x",
         "y": {
          "bdata": "4XoUrgcUs0A=",
          "dtype": "f8"
         },
         "yaxis": "y"
        },
        {
         "hovertemplate": "Component=%{x}<br>Volume (MCM)=%{y}<extra></extra>",
         "legendgroup": "Storage Change",
         "marker": {
          "color": "#d3d3d3",
          "pattern": {
           "shape": ""
          }
         },
         "name": "Storage Change",
         "orientation": "v",
         "showlegend": true,
         "textposition": "auto",
         "type": "bar",
         "x": [
          "Storage Change"
         ],
         "xaxis": "x",
         "y": {
          "bdata": "yMzMzLw800A=",
          "dtype": "f8"
         },
         "yaxis": "y"
        }
       ],
       "layout": {
        "barmode": "relative",
        "legend": {
         "title": {
          "text": "Component"
         },
         "tracegroupgap": 0
        },
        "showlegend": false,
        "template": {
         "data": {
          "bar": [
           {
            "error_x": {
             "color": "#2a3f5f"
            },
            "error_y": {
             "color": "#2a3f5f"
            },
            "marker": {
             "line": {
              "color": "#E5ECF6",
              "width": 0.5
             },
             "pattern": {
              "fillmode": "overlay",
              "size": 10,
              "solidity": 0.2
             }
            },
            "type": "bar"
           }
          ],
          "barpolar": [
           {
            "marker": {
             "line": {
              "color": "#E5ECF6",
              "width": 0.5
             },
             "pattern": {
              "fillmode": "overlay",
              "size": 10,
              "solidity": 0.2
             }
            },
            "type": "barpolar"
           }
          ],
          "carpet": [
           {
            "aaxis": {
             "endlinecolor": "#2a3f5f",
             "gridcolor": "white",
             "linecolor": "white",
             "minorgridcolor": "white",
             "startlinecolor": "#2a3f5f"
            },
            "baxis": {
             "endlinecolor": "#2a3f5f",
             "gridcolor": "white",
             "linecolor": "white",
             "minorgridcolor": "white",
             "startlinecolor": "#2a3f5f"
            },
            "type": "carpet"
           }
          ],
          "choropleth": [
           {
            "colorbar": {
             "outlinewidth": 0,
             "ticks": ""
            },
            "type": "choropleth"
           }
          ],
          "contour": [
           {
            "colorbar": {
             "outlinewidth": 0,
             "ticks": ""
            },
            "colorscale": [
             [
              0,
              "#0d0887"
             ],
             [
              0.1111111111111111,
              "#46039f"
             ],
             [
              0.2222222222222222,
              "#7201a8"
             ],
             [
              0.3333333333333333,
              "#9c179e"
             ],
             [
              0.4444444444444444,
              "#bd3786"
             ],
             [
              0.5555555555555556,
              "#d8576b"
             ],
             [
              0.6666666666666666,
              "#ed7953"
             ],
             [
              0.7777777777777778,
              "#fb9f3a"
             ],
             [
              0.8888888888888888,
              "#fdca26"
             ],
             [
              1,
              "#f0f921"
             ]
            ],
            "type": "contour"
           }
          ],
          "contourcarpet": [
           {
            "colorbar": {
             "outlinewidth": 0,
             "ticks": ""
            },
            "type": "contourcarpet"
           }
          ],
          "heatmap": [
           {
            "colorbar": {
             "outlinewidth": 0,
             "ticks": ""
            },
            "colorscale": [
             [
              0,
              "#0d0887"
             ],
             [
              0.1111111111111111,
              "#46039f"
             ],
             [
              0.2222222222222222,
              "#7201a8"
             ],
             [
              0.3333333333333333,
              "#9c179e"
             ],
             [
              0.4444444444444444,
              "#bd3786"
             ],
             [
              0.5555555555555556,
              "#d8576b"
             ],
             [
              0.6666666666666666,
              "#ed7953"
             ],
             [
              0.7777777777777778,
              "#fb9f3a"
             ],
             [
              0.8888888888888888,
              "#fdca26"
             ],
             [
              1,
              "#f0f921"
             ]
            ],
            "type": "heatmap"
           }
          ],
          "histogram": [
           {
            "marker": {
             "pattern": {
              "fillmode": "overlay",
              "size": 10,
              "solidity": 0.2
             }
            },
            "type": "histogram"
           }
          ],
          "histogram2d": [
           {
            "colorbar": {
             "outlinewidth": 0,
             "ticks": ""
            },
            "colorscale": [
             [
              0,
              "#0d0887"
             ],
             [
              0.1111111111111111,
              "#46039f"
             ],
             [
              0.2222222222222222,
              "#7201a8"
             ],
             [
              0.3333333333333333,
              "#9c179e"
             ],
             [
              0.4444444444444444,
              "#bd3786"
             ],
             [
              0.5555555555555556,
              "#d8576b"
             ],
             [
              0.6666666666666666,
              "#ed7953"
             ],
             [
              0.7777777777777778,
              "#fb9f3a"
             ],
             [
              0.8888888888888888,
              "#fdca26"
             ],
             [
              1,
              "#f0f921"
             ]
            ],
            "type": "histogram2d"
           }
          ],
          "histogram2dcontour": [
           {
            "colorbar": {
             "outlinewidth": 0,
             "ticks": ""
            },
            "colorscale": [
             [
              0,
              "#0d0887"
             ],
             [
              0.1111111111111111,
              "#46039f"
             ],
             [
              0.2222222222222222,
              "#7201a8"
             ],
             [
              0.3333333333333333,
              "#9c179e"
             ],
             [
              0.4444444444444444,
              "#bd3786"
             ],
             [
              0.5555555555555556,
              "#d8576b"
             ],
             [
              0.6666666666666666,
              "#ed7953"
             ],
             [
              0.7777777777777778,
              "#fb9f3a"
             ],
             [
              0.8888888888888888,
              "#fdca26"
             ],
             [
              1,
              "#f0f921"
             ]
            ],
            "type": "histogram2dcontour"
           }
          ],
          "mesh3d": [
           {
            "colorbar": {
             "outlinewidth": 0,
             "ticks": ""
            },
            "type": "mesh3d"
           }
          ],
          "parcoords": [
           {
            "line": {
             "colorbar": {
              "outlinewidth": 0,
              "ticks": ""
             }
            },
            "type": "parcoords"
           }
          ],
          "pie": [
           {
            "automargin": true,
            "type": "pie"
           }
          ],
          "scatter": [
           {
            "fillpattern": {
             "fillmode": "overlay",
             "size": 10,
             "solidity": 0.2
            },
            "type": "scatter"
           }
          ],
          "scatter3d": [
           {
            "line": {
             "colorbar": {
              "outlinewidth": 0,
              "ticks": ""
             }
            },
            "marker": {
             "colorbar": {
              "outlinewidth": 0,
              "ticks": ""
             }
            },
            "type": "scatter3d"
           }
          ],
          "scattercarpet": [
           {
            "marker": {
             "colorbar": {
              "outlinewidth": 0,
              "ticks": ""
             }
            },
            "type": "scattercarpet"
           }
          ],
          "scattergeo": [
           {
            "marker": {
             "colorbar": {
              "outlinewidth": 0,
              "ticks": ""
             }
            },
            "type": "scattergeo"
           }
          ],
          "scattergl": [
           {
            "marker": {
             "colorbar": {
              "outlinewidth": 0,
              "ticks": ""
             }
            },
            "type": "scattergl"
           }
          ],
          "scattermap": [
           {
            "marker": {
             "colorbar": {
              "outlinewidth": 0,
              "ticks": ""
             }
            },
            "type": "scattermap"
           }
          ],
          "scattermapbox": [
           {
            "marker": {
             "colorbar": {
              "outlinewidth": 0,
              "ticks": ""
             }
            },
            "type": "scattermapbox"
           }
          ],
          "scatterpolar": [
           {
            "marker": {
             "colorbar": {
              "outlinewidth": 0,
              "ticks": ""
             }
            },
            "type": "scatterpolar"
           }
          ],
          "scatterpolargl": [
           {
            "marker": {
             "colorbar": {
              "outlinewidth": 0,
              "ticks": ""
             }
            },
            "type": "scatterpolargl"
           }
          ],
          "scatterternary": [
           {
            "marker": {
             "colorbar": {
              "outlinewidth": 0,
              "ticks": ""
             }
            },
            "type": "scatterternary"
           }
          ],
          "surface": [
           {
            "colorbar": {
             "outlinewidth": 0,
             "ticks": ""
            },
            "colorscale": [
             [
              0,
              "#0d0887"
             ],
             [
              0.1111111111111111,
              "#46039f"
             ],
             [
              0.2222222222222222,
              "#7201a8"
             ],
             [
              0.3333333333333333,
              "#9c179e"
             ],
             [
              0.4444444444444444,
              "#bd3786"
             ],
             [
              0.5555555555555556,
              "#d8576b"
             ],
             [
              0.6666666666666666,
              "#ed7953"
             ],
             [
              0.7777777777777778,
              "#fb9f3a"
             ],
             [
              0.8888888888888888,
              "#fdca26"
             ],
             [
              1,
              "#f0f921"
             ]
            ],
            "type": "surface"
           }
          ],
          "table": [
           {
            "cells": {
             "fill": {
              "color": "#EBF0F8"
             },
             "line": {
              "color": "white"
             }
            },
            "header": {
             "fill": {
              "color": "#C8D4E3"
             },
             "line": {
              "color": "white"
             }
            },
            "type": "table"
           }
          ]
         },
         "layout": {
          "annotationdefaults": {
           "arrowcolor": "#2a3f5f",
           "arrowhead": 0,
           "arrowwidth": 1
          },
          "autotypenumbers": "strict",
          "coloraxis": {
           "colorbar": {
            "outlinewidth": 0,
            "ticks": ""
           }
          },
          "colorscale": {
           "diverging": [
            [
             0,
             "#8e0152"
            ],
            [
             0.1,
             "#c51b7d"
            ],
            [
             0.2,
             "#de77ae"
            ],
            [
             0.3,
             "#f1b6da"
            ],
            [
             0.4,
             "#fde0ef"
            ],
            [
             0.5,
             "#f7f7f7"
            ],
            [
             0.6,
             "#e6f5d0"
            ],
            [
             0.7,
             "#b8e186"
            ],
            [
             0.8,
             "#7fbc41"
            ],
            [
             0.9,
             "#4d9221"
            ],
            [
             1,
             "#276419"
            ]
           ],
           "sequential": [
            [
             0,
             "#0d0887"
            ],
            [
             0.1111111111111111,
             "#46039f"
            ],
            [
             0.2222222222222222,
             "#7201a8"
            ],
            [
             0.3333333333333333,
             "#9c179e"
            ],
            [
             0.4444444444444444,
             "#bd3786"
            ],
            [
             0.5555555555555556,
             "#d8576b"
            ],
            [
             0.6666666666666666,
             "#ed7953"
            ],
            [
             0.7777777777777778,
             "#fb9f3a"
            ],
            [
             0.8888888888888888,
             "#fdca26"
            ],
            [
             1,
             "#f0f921"
            ]
           ],
           "sequentialminus": [
            [
             0,
             "#0d0887"
            ],
            [
             0.1111111111111111,
             "#46039f"
            ],
            [
             0.2222222222222222,
             "#7201a8"
            ],
            [
             0.3333333333333333,
             "#9c179e"
            ],
            [
             0.4444444444444444,
             "#bd3786"
            ],
            [
             0.5555555555555556,
             "#d8576b"
            ],
            [
             0.6666666666666666,
             "#ed7953"
            ],
            [
             0.7777777777777778,
             "#fb9f3a"
            ],
            [
             0.8888888888888888,
             "#fdca26"
            ],
            [
             1,
             "#f0f921"
            ]
           ]
          },
          "colorway": [
           "#636efa",
           "#EF553B",
           "#00cc96",
           "#ab63fa",
           "#FFA15A",
           "#19d3f3",
           "#FF6692",
           "#B6E880",
           "#FF97FF",
           "#FECB52"
          ],
          "font": {
           "color": "#2a3f5f"
          },
          "geo": {
           "bgcolor": "white",
           "lakecolor": "white",
           "landcolor": "#E5ECF6",
           "showlakes": true,
           "showland": true,
           "subunitcolor": "white"
          },
          "hoverlabel": {
           "align": "left"
          },
          "hovermode": "closest",
          "mapbox": {
           "style": "light"
          },
          "paper_bgcolor": "white",
          "plot_bgcolor": "#E5ECF6",
          "polar": {
           "angularaxis": {
            "gridcolor": "white",
            "linecolor": "white",
            "ticks": ""
           },
           "bgcolor": "#E5ECF6",
           "radialaxis": {
            "gridcolor": "white",
            "linecolor": "white",
            "ticks": ""
           }
          },
          "scene": {
           "xaxis": {
            "backgroundcolor": "#E5ECF6",
            "gridcolor": "white",
            "gridwidth": 2,
            "linecolor": "white",
            "showbackground": true,
            "ticks": "",
            "zerolinecolor": "white"
           },
           "yaxis": {
            "backgroundcolor": "#E5ECF6",
            "gridcolor": "white",
            "gridwidth": 2,
            "linecolor": "white",
            "showbackground": true,
            "ticks": "",
            "zerolinecolor": "white"
           },
           "zaxis": {
            "backgroundcolor": "#E5ECF6",
            "gridcolor": "white",
            "gridwidth": 2,
            "linecolor": "white",
            "showbackground": true,
            "ticks": "",
            "zerolinecolor": "white"
           }
          },
          "shapedefaults": {
           "line": {
            "color": "#2a3f5f"
           }
          },
          "ternary": {
           "aaxis": {
            "gridcolor": "white",
            "linecolor": "white",
            "ticks": ""
           },
           "baxis": {
            "gridcolor": "white",
            "linecolor": "white",
            "ticks": ""
           },
           "bgcolor": "#E5ECF6",
           "caxis": {
            "gridcolor": "white",
            "linecolor": "white",
            "ticks": ""
           }
          },
          "title": {
           "x": 0.05
          },
          "xaxis": {
           "automargin": true,
           "gridcolor": "white",
           "linecolor": "white",
           "ticks": "",
           "title": {
            "standoff": 15
           },
           "zerolinecolor": "white",
           "zerolinewidth": 2
          },
          "yaxis": {
           "automargin": true,
           "gridcolor": "white",
           "linecolor": "white",
           "ticks": "",
           "title": {
            "standoff": 15
           },
           "zerolinecolor": "white",
           "zerolinewidth": 2
          }
         }
        },
        "title": {
         "text": "Component Comparison"
        },
        "xaxis": {
         "anchor": "y",
         "categoryarray": [
          "Evapotranspiration",
          "Interception Loss",
          "Storage Change"
         ],
         "categoryorder": "array",
         "domain": [
          0,
          1
         ],
         "title": {
          "text": "Component"
         }
        },
        "yaxis": {
         "anchor": "x",
         "domain": [
          0,
          1
         ],
         "title": {
          "text": "Volume (MCM)"
         }
        }
       }
      },
      "image/png": "[encoded data removed]"
     },
     "metadata": {},
     "output_type": "display_data"
    },
    {
     "data": {
      "application/vnd.plotly.v1+json": {
       "config": {
        "plotlyServerURL": "https://plot.ly"
       },
       "data": [
        {
         "marker": {
          "color": [
           "#ff6b6b",
           "#ffa500",
           "#d3d3d3"
          ],
          "line": {
           "color": "black",
           "width": 1
          }
         },
         "opacity": 0.8,
         "r": [
          125786.47,
          4884.03,
          19698.949999999983
         ],
         "theta": [
          "Evapotranspiration",
          "Interception Loss",
          "Storage Change"
         ],
         "type": "barpolar"
        }
       ],
       "layout": {
        "polar": {
         "radialaxis": {
          "visible": true
         }
        },
        "showlegend": true,
        "template": {
         "data": {
          "bar": [
           {
            "error_x": {
             "color": "#2a3f5f"
            },
            "error_y": {
             "color": "#2a3f5f"
            },
            "marker": {
             "line": {
              "color": "#E5ECF6",
              "width": 0.5
             },
             "pattern": {
              "fillmode": "overlay",
              "size": 10,
              "solidity": 0.2
             }
            },
            "type": "bar"
           }
          ],
          "barpolar": [
           {
            "marker": {
             "line": {
              "color": "#E5ECF6",
              "width": 0.5
             },
             "pattern": {
              "fillmode": "overlay",
              "size": 10,
              "solidity": 0.2
             }
            },
            "type": "barpolar"
           }
          ],
          "carpet": [
           {
            "aaxis": {
             "endlinecolor": "#2a3f5f",
             "gridcolor": "white",
             "linecolor": "white",
             "minorgridcolor": "white",
             "startlinecolor": "#2a3f5f"
            },
            "baxis": {
             "endlinecolor": "#2a3f5f",
             "gridcolor": "white",
             "linecolor": "white",
             "minorgridcolor": "white",
             "startlinecolor": "#2a3f5f"
            },
            "type": "carpet"
           }
          ],
          "choropleth": [
           {
            "colorbar": {
             "outlinewidth": 0,
             "ticks": ""
            },
            "type": "choropleth"
           }
          ],
          "contour": [
           {
            "colorbar": {
             "outlinewidth": 0,
             "ticks": ""
            },
            "colorscale": [
             [
              0,
              "#0d0887"
             ],
             [
              0.1111111111111111,
              "#46039f"
             ],
             [
              0.2222222222222222,
              "#7201a8"
             ],
             [
              0.3333333333333333,
              "#9c179e"
             ],
             [
              0.4444444444444444,
              "#bd3786"
             ],
             [
              0.5555555555555556,
              "#d8576b"
             ],
             [
              0.6666666666666666,
              "#ed7953"
             ],
             [
              0.7777777777777778,
              "#fb9f3a"
             ],
             [
              0.8888888888888888,
              "#fdca26"
             ],
             [
              1,
              "#f0f921"
             ]
            ],
            "type": "contour"
           }
          ],
          "contourcarpet": [
           {
            "colorbar": {
             "outlinewidth": 0,
             "ticks": ""
            },
            "type": "contourcarpet"
           }
          ],
          "heatmap": [
           {
            "colorbar": {
             "outlinewidth": 0,
             "ticks": ""
            },
            "colorscale": [
             [
              0,
              "#0d0887"
             ],
             [
              0.1111111111111111,
              "#46039f"
             ],
             [
              0.2222222222222222,
              "#7201a8"
             ],
             [
              0.3333333333333333,
              "#9c179e"
             ],
             [
              0.4444444444444444,
              "#bd3786"
             ],
             [
              0.5555555555555556,
              "#d8576b"
             ],
             [
              0.6666666666666666,
              "#ed7953"
             ],
             [
              0.7777777777777778,
              "#fb9f3a"
             ],
             [
              0.8888888888888888,
              "#fdca26"
             ],
             [
              1,
              "#f0f921"
             ]
            ],
            "type": "heatmap"
           }
          ],
          "histogram": [
           {
            "marker": {
             "pattern": {
              "fillmode": "overlay",
              "size": 10,
              "solidity": 0.2
             }
            },
            "type": "histogram"
           }
          ],
          "histogram2d": [
           {
            "colorbar": {
             "outlinewidth": 0,
             "ticks": ""
            },
            "colorscale": [
             [
              0,
              "#0d0887"
             ],
             [
              0.1111111111111111,
              "#46039f"
             ],
             [
              0.2222222222222222,
              "#7201a8"
             ],
             [
              0.3333333333333333,
              "#9c179e"
             ],
             [
              0.4444444444444444,
              "#bd3786"
             ],
             [
              0.5555555555555556,
              "#d8576b"
             ],
             [
              0.6666666666666666,
              "#ed7953"
             ],
             [
              0.7777777777777778,
              "#fb9f3a"
             ],
             [
              0.8888888888888888,
              "#fdca26"
             ],
             [
              1,
              "#f0f921"
             ]
            ],
            "type": "histogram2d"
           }
          ],
          "histogram2dcontour": [
           {
            "colorbar": {
             "outlinewidth": 0,
             "ticks": ""
            },
            "colorscale": [
             [
              0,
              "#0d0887"
             ],
             [
              0.1111111111111111,
              "#46039f"
             ],
             [
              0.2222222222222222,
              "#7201a8"
             ],
             [
              0.3333333333333333,
              "#9c179e"
             ],
             [
              0.4444444444444444,
              "#bd3786"
             ],
             [
              0.5555555555555556,
              "#d8576b"
             ],
             [
              0.6666666666666666,
              "#ed7953"
             ],
             [
              0.7777777777777778,
              "#fb9f3a"
             ],
             [
              0.8888888888888888,
              "#fdca26"
             ],
             [
              1,
              "#f0f921"
             ]
            ],
            "type": "histogram2dcontour"
           }
          ],
          "mesh3d": [
           {
            "colorbar": {
             "outlinewidth": 0,
             "ticks": ""
            },
            "type": "mesh3d"
           }
          ],
          "parcoords": [
           {
            "line": {
             "colorbar": {
              "outlinewidth": 0,
              "ticks": ""
             }
            },
            "type": "parcoords"
           }
          ],
          "pie": [
           {
            "automargin": true,
            "type": "pie"
           }
          ],
          "scatter": [
           {
            "fillpattern": {
             "fillmode": "overlay",
             "size": 10,
             "solidity": 0.2
            },
            "type": "scatter"
           }
          ],
          "scatter3d": [
           {
            "line": {
             "colorbar": {
              "outlinewidth": 0,
              "ticks": ""
             }
            },
            "marker": {
             "colorbar": {
              "outlinewidth": 0,
              "ticks": ""
             }
            },
            "type": "scatter3d"
           }
          ],
          "scattercarpet": [
           {
            "marker": {
             "colorbar": {
              "outlinewidth": 0,
              "ticks": ""
             }
            },
            "type": "scattercarpet"
           }
          ],
          "scattergeo": [
           {
            "marker": {
             "colorbar": {
              "outlinewidth": 0,
              "ticks": ""
             }
            },
            "type": "scattergeo"
           }
          ],
          "scattergl": [
           {
            "marker": {
             "colorbar": {
              "outlinewidth": 0,
              "ticks": ""
             }
            },
            "type": "scattergl"
           }
          ],
          "scattermap": [
           {
            "marker": {
             "colorbar": {
              "outlinewidth": 0,
              "ticks": ""
             }
            },
            "type": "scattermap"
           }
          ],
          "scattermapbox": [
           {
            "marker": {
             "colorbar": {
              "outlinewidth": 0,
              "ticks": ""
             }
            },
            "type": "scattermapbox"
           }
          ],
          "scatterpolar": [
           {
            "marker": {
             "colorbar": {
              "outlinewidth": 0,
              "ticks": ""
             }
            },
            "type": "scatterpolar"
           }
          ],
          "scatterpolargl": [
           {
            "marker": {
             "colorbar": {
              "outlinewidth": 0,
              "ticks": ""
             }
            },
            "type": "scatterpolargl"
           }
          ],
          "scatterternary": [
           {
            "marker": {
             "colorbar": {
              "outlinewidth": 0,
              "ticks": ""
             }
            },
            "type": "scatterternary"
           }
          ],
          "surface": [
           {
            "colorbar": {
             "outlinewidth": 0,
             "ticks": ""
            },
            "colorscale": [
             [
              0,
              "#0d0887"
             ],
             [
              0.1111111111111111,
              "#46039f"
             ],
             [
              0.2222222222222222,
              "#7201a8"
             ],
             [
              0.3333333333333333,
              "#9c179e"
             ],
             [
              0.4444444444444444,
              "#bd3786"
             ],
             [
              0.5555555555555556,
              "#d8576b"
             ],
             [
              0.6666666666666666,
              "#ed7953"
             ],
             [
              0.7777777777777778,
              "#fb9f3a"
             ],
             [
              0.8888888888888888,
              "#fdca26"
             ],
             [
              1,
              "#f0f921"
             ]
            ],
            "type": "surface"
           }
          ],
          "table": [
           {
            "cells": {
             "fill": {
              "color": "#EBF0F8"
             },
             "line": {
              "color": "white"
             }
            },
            "header": {
             "fill": {
              "color": "#C8D4E3"
             },
             "line": {
              "color": "white"
             }
            },
            "type": "table"
           }
          ]
         },
         "layout": {
          "annotationdefaults": {
           "arrowcolor": "#2a3f5f",
           "arrowhead": 0,
           "arrowwidth": 1
          },
          "autotypenumbers": "strict",
          "coloraxis": {
           "colorbar": {
            "outlinewidth": 0,
            "ticks": ""
           }
          },
          "colorscale": {
           "diverging": [
            [
             0,
             "#8e0152"
            ],
            [
             0.1,
             "#c51b7d"
            ],
            [
             0.2,
             "#de77ae"
            ],
            [
             0.3,
             "#f1b6da"
            ],
            [
             0.4,
             "#fde0ef"
            ],
            [
             0.5,
             "#f7f7f7"
            ],
            [
             0.6,
             "#e6f5d0"
            ],
            [
             0.7,
             "#b8e186"
            ],
            [
             0.8,
             "#7fbc41"
            ],
            [
             0.9,
             "#4d9221"
            ],
            [
             1,
             "#276419"
            ]
           ],
           "sequential": [
            [
             0,
             "#0d0887"
            ],
            [
             0.1111111111111111,
             "#46039f"
            ],
            [
             0.2222222222222222,
             "#7201a8"
            ],
            [
             0.3333333333333333,
             "#9c179e"
            ],
            [
             0.4444444444444444,
             "#bd3786"
            ],
            [
             0.5555555555555556,
             "#d8576b"
            ],
            [
             0.6666666666666666,
             "#ed7953"
            ],
            [
             0.7777777777777778,
             "#fb9f3a"
            ],
            [
             0.8888888888888888,
             "#fdca26"
            ],
            [
             1,
             "#f0f921"
            ]
           ],
           "sequentialminus": [
            [
             0,
             "#0d0887"
            ],
            [
             0.1111111111111111,
             "#46039f"
            ],
            [
             0.2222222222222222,
             "#7201a8"
            ],
            [
             0.3333333333333333,
             "#9c179e"
            ],
            [
             0.4444444444444444,
             "#bd3786"
            ],
            [
             0.5555555555555556,
             "#d8576b"
            ],
            [
             0.6666666666666666,
             "#ed7953"
            ],
            [
             0.7777777777777778,
             "#fb9f3a"
            ],
            [
             0.8888888888888888,
             "#fdca26"
            ],
            [
             1,
             "#f0f921"
            ]
           ]
          },
          "colorway": [
           "#636efa",
           "#EF553B",
           "#00cc96",
           "#ab63fa",
           "#FFA15A",
           "#19d3f3",
           "#FF6692",
           "#B6E880",
           "#FF97FF",
           "#FECB52"
          ],
          "font": {
           "color": "#2a3f5f"
          },
          "geo": {
           "bgcolor": "white",
           "lakecolor": "white",
           "landcolor": "#E5ECF6",
           "showlakes": true,
           "showland": true,
           "subunitcolor": "white"
          },
          "hoverlabel": {
           "align": "left"
          },
          "hovermode": "closest",
          "mapbox": {
           "style": "light"
          },
          "paper_bgcolor": "white",
          "plot_bgcolor": "#E5ECF6",
          "polar": {
           "angularaxis": {
            "gridcolor": "white",
            "linecolor": "white",
            "ticks": ""
           },
           "bgcolor": "#E5ECF6",
           "radialaxis": {
            "gridcolor": "white",
            "linecolor": "white",
            "ticks": ""
           }
          },
          "scene": {
           "xaxis": {
            "backgroundcolor": "#E5ECF6",
            "gridcolor": "white",
            "gridwidth": 2,
            "linecolor": "white",
            "showbackground": true,
            "ticks": "",
            "zerolinecolor": "white"
           },
           "yaxis": {
            "backgroundcolor": "#E5ECF6",
            "gridcolor": "white",
            "gridwidth": 2,
            "linecolor": "white",
            "showbackground": true,
            "ticks": "",
            "zerolinecolor": "white"
           },
           "zaxis": {
            "backgroundcolor": "#E5ECF6",
            "gridcolor": "white",
            "gridwidth": 2,
            "linecolor": "white",
            "showbackground": true,
            "ticks": "",
            "zerolinecolor": "white"
           }
          },
          "shapedefaults": {
           "line": {
            "color": "#2a3f5f"
           }
          },
          "ternary": {
           "aaxis": {
            "gridcolor": "white",
            "linecolor": "white",
            "ticks": ""
           },
           "baxis": {
            "gridcolor": "white",
            "linecolor": "white",
            "ticks": ""
           },
           "bgcolor": "#E5ECF6",
           "caxis": {
            "gridcolor": "white",
            "linecolor": "white",
            "ticks": ""
           }
          },
          "title": {
           "x": 0.05
          },
          "xaxis": {
           "automargin": true,
           "gridcolor": "white",
           "linecolor": "white",
           "ticks": "",
           "title": {
            "standoff": 15
           },
           "zerolinecolor": "white",
           "zerolinewidth": 2
          },
          "yaxis": {
           "automargin": true,
           "gridcolor": "white",
           "linecolor": "white",
           "ticks": "",
           "title": {
            "standoff": 15
           },
           "zerolinecolor": "white",
           "zerolinewidth": 2
          }
         }
        },
        "title": {
         "text": "Radial Outflow Analysis"
        }
       }
      },
      "image/png": "[encoded data removed]"
     },
     "metadata": {},
     "output_type": "display_data"
    },
    {
     "data": {
      "text/html": [
       "<div>\n",
       "<style scoped>\n",
       "    .dataframe tbody tr th:only-of-type {\n",
       "        vertical-align: middle;\n",
       "    }\n",
       "\n",
       "    .dataframe tbody tr th {\n",
       "        vertical-align: top;\n",
       "    }\n",
       "\n",
       "    .dataframe thead th {\n",
       "        text-align: right;\n",
       "    }\n",
       "</style>\n",
       "<table border=\"1\" class=\"dataframe\">\n",
       "  <thead>\n",
       "    <tr style=\"text-align: right;\">\n",
       "      <th></th>\n",
       "      <th>name</th>\n",
       "      <th>value</th>\n",
       "      <th>percentage</th>\n",
       "      <th>category</th>\n",
       "      <th>description</th>\n",
       "    </tr>\n",
       "  </thead>\n",
       "  <tbody>\n",
       "    <tr>\n",
       "      <th>0</th>\n",
       "      <td>Evapotranspiration</td>\n",
       "      <td>125786.47</td>\n",
       "      <td>83.7</td>\n",
       "      <td>Biological</td>\n",
       "      <td>Water lost through plant transpiration and soi...</td>\n",
       "    </tr>\n",
       "    <tr>\n",
       "      <th>1</th>\n",
       "      <td>Interception Loss</td>\n",
       "      <td>4884.03</td>\n",
       "      <td>3.2</td>\n",
       "      <td>Physical</td>\n",
       "      <td>Water intercepted by vegetation canopy and los...</td>\n",
       "    </tr>\n",
       "    <tr>\n",
       "      <th>2</th>\n",
       "      <td>Storage Change</td>\n",
       "      <td>19698.95</td>\n",
       "      <td>13.1</td>\n",
       "      <td>Storage</td>\n",
       "      <td>Net water depletion from system</td>\n",
       "    </tr>\n",
       "  </tbody>\n",
       "</table>\n",
       "</div>"
      ],
      "text/plain": [
       "                 name      value  percentage    category  \\\n",
       "0  Evapotranspiration  125786.47        83.7  Biological   \n",
       "1   Interception Loss    4884.03         3.2    Physical   \n",
       "2      Storage Change   19698.95        13.1     Storage   \n",
       "\n",
       "                                         description  \n",
       "0  Water lost through plant transpiration and soi...  \n",
       "1  Water intercepted by vegetation canopy and los...  \n",
       "2                    Net water depletion from system  "
      ]
     },
     "metadata": {},
     "output_type": "display_data"
    }
   ],
   "source": []
  },
  {
   "cell_type": "code",
   "execution_count": null,
   "id": "734fb119-681b-4b2b-b8a6-75c858218798",
   "metadata": {},
   "outputs": [],
   "source": []
  }
 ],
 "metadata": {
  "kernelspec": {
   "display_name": "Python 3 (ipykernel)",
   "language": "python",
   "name": "python3"
  },
  "language_info": {
   "codemirror_mode": {
    "name": "ipython",
    "version": 3
   },
   "file_extension": ".py",
   "mimetype": "text/x-python",
   "name": "python",
   "nbconvert_exporter": "python",
   "pygments_lexer": "ipython3",
   "version": "3.10.0"
  }
 },
 "nbformat": 4,
 "nbformat_minor": 5
}
